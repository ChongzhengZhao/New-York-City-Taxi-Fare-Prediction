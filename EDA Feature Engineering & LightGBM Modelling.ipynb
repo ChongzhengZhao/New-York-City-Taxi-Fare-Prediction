{
 "cells": [
  {
   "cell_type": "code",
   "execution_count": null,
   "metadata": {},
   "outputs": [],
   "source": [
    "# Author: Chongzheng Zhao\n",
    "# Kaggle Competition - New York City Taxi Fare Prediction\n",
    "# FINAL BEAT 1454 TEAMS!\n",
    "# We team NYCTAXI located at 30 out of 1484 teams, Top 2%!\n",
    "# Final Score 2.86770\n",
    "# Competition Official Website: https://www.kaggle.com/c/new-york-city-taxi-fare-prediction\n",
    "# To see the leaderboard(competition result): https://www.kaggle.com/c/new-york-city-taxi-fare-prediction/leaderboard\n",
    "# Welcome to my Github profile: https://github.com/ChongzhengZhao/\n",
    "# Welcome to my Kaggle Profile: https://www.kaggle.com/chongzhengzhao\n",
    "# Welcome to my Linkedin Profile: https://www.linkedin.com/in/chongzhengzhao/\n",
    "# Last updated: 30/11/2018"
   ]
  },
  {
   "cell_type": "code",
   "execution_count": 1,
   "metadata": {
    "collapsed": true
   },
   "outputs": [],
   "source": [
    "import numpy as np\n",
    "import pandas as pd\n",
    "import matplotlib.pyplot as plt\n",
    "import seaborn as sns\n",
    "% matplotlib inline\n",
    "plt.style.use('seaborn-whitegrid')\n",
    "import warnings\n",
    "warnings.filterwarnings('ignore')"
   ]
  },
  {
   "cell_type": "code",
   "execution_count": 2,
   "metadata": {
    "collapsed": true
   },
   "outputs": [],
   "source": [
    "train = pd.read_csv(\"train.csv\")"
   ]
  },
  {
   "cell_type": "code",
   "execution_count": 3,
   "metadata": {},
   "outputs": [
    {
     "data": {
      "text/plain": [
       "(55423856, 8)"
      ]
     },
     "execution_count": 3,
     "metadata": {},
     "output_type": "execute_result"
    }
   ],
   "source": [
    "train.shape"
   ]
  },
  {
   "cell_type": "code",
   "execution_count": 4,
   "metadata": {},
   "outputs": [
    {
     "data": {
      "text/plain": [
       "key                   object\n",
       "fare_amount          float64\n",
       "pickup_datetime       object\n",
       "pickup_longitude     float64\n",
       "pickup_latitude      float64\n",
       "dropoff_longitude    float64\n",
       "dropoff_latitude     float64\n",
       "passenger_count        int64\n",
       "dtype: object"
      ]
     },
     "execution_count": 4,
     "metadata": {},
     "output_type": "execute_result"
    }
   ],
   "source": [
    "train.dtypes"
   ]
  },
  {
   "cell_type": "code",
   "execution_count": 5,
   "metadata": {},
   "outputs": [
    {
     "data": {
      "text/plain": [
       "key                    0\n",
       "fare_amount            0\n",
       "pickup_datetime        0\n",
       "pickup_longitude       0\n",
       "pickup_latitude        0\n",
       "dropoff_longitude    376\n",
       "dropoff_latitude     376\n",
       "passenger_count        0\n",
       "dtype: int64"
      ]
     },
     "execution_count": 5,
     "metadata": {},
     "output_type": "execute_result"
    }
   ],
   "source": [
    "train.isnull().sum()"
   ]
  },
  {
   "cell_type": "code",
   "execution_count": 6,
   "metadata": {},
   "outputs": [
    {
     "data": {
      "text/html": [
       "<div>\n",
       "<table border=\"1\" class=\"dataframe\">\n",
       "  <thead>\n",
       "    <tr style=\"text-align: right;\">\n",
       "      <th></th>\n",
       "      <th>fare_amount</th>\n",
       "      <th>pickup_longitude</th>\n",
       "      <th>pickup_latitude</th>\n",
       "      <th>dropoff_longitude</th>\n",
       "      <th>dropoff_latitude</th>\n",
       "      <th>passenger_count</th>\n",
       "    </tr>\n",
       "  </thead>\n",
       "  <tbody>\n",
       "    <tr>\n",
       "      <th>count</th>\n",
       "      <td>5.542386e+07</td>\n",
       "      <td>5.542386e+07</td>\n",
       "      <td>5.542386e+07</td>\n",
       "      <td>5.542348e+07</td>\n",
       "      <td>5.542348e+07</td>\n",
       "      <td>5.542386e+07</td>\n",
       "    </tr>\n",
       "    <tr>\n",
       "      <th>mean</th>\n",
       "      <td>1.134505e+01</td>\n",
       "      <td>-7.250968e+01</td>\n",
       "      <td>3.991979e+01</td>\n",
       "      <td>-7.251121e+01</td>\n",
       "      <td>3.992068e+01</td>\n",
       "      <td>1.685380e+00</td>\n",
       "    </tr>\n",
       "    <tr>\n",
       "      <th>std</th>\n",
       "      <td>2.071083e+01</td>\n",
       "      <td>1.284888e+01</td>\n",
       "      <td>9.642353e+00</td>\n",
       "      <td>1.278220e+01</td>\n",
       "      <td>9.633346e+00</td>\n",
       "      <td>1.327664e+00</td>\n",
       "    </tr>\n",
       "    <tr>\n",
       "      <th>min</th>\n",
       "      <td>-3.000000e+02</td>\n",
       "      <td>-3.442060e+03</td>\n",
       "      <td>-3.492264e+03</td>\n",
       "      <td>-3.442025e+03</td>\n",
       "      <td>-3.547887e+03</td>\n",
       "      <td>0.000000e+00</td>\n",
       "    </tr>\n",
       "    <tr>\n",
       "      <th>25%</th>\n",
       "      <td>6.000000e+00</td>\n",
       "      <td>-7.399207e+01</td>\n",
       "      <td>4.073493e+01</td>\n",
       "      <td>-7.399140e+01</td>\n",
       "      <td>4.073403e+01</td>\n",
       "      <td>1.000000e+00</td>\n",
       "    </tr>\n",
       "    <tr>\n",
       "      <th>50%</th>\n",
       "      <td>8.500000e+00</td>\n",
       "      <td>-7.398180e+01</td>\n",
       "      <td>4.075265e+01</td>\n",
       "      <td>-7.398015e+01</td>\n",
       "      <td>4.075316e+01</td>\n",
       "      <td>1.000000e+00</td>\n",
       "    </tr>\n",
       "    <tr>\n",
       "      <th>75%</th>\n",
       "      <td>1.250000e+01</td>\n",
       "      <td>-7.396708e+01</td>\n",
       "      <td>4.076713e+01</td>\n",
       "      <td>-7.396367e+01</td>\n",
       "      <td>4.076810e+01</td>\n",
       "      <td>2.000000e+00</td>\n",
       "    </tr>\n",
       "    <tr>\n",
       "      <th>max</th>\n",
       "      <td>9.396336e+04</td>\n",
       "      <td>3.457626e+03</td>\n",
       "      <td>3.408790e+03</td>\n",
       "      <td>3.457622e+03</td>\n",
       "      <td>3.537133e+03</td>\n",
       "      <td>2.080000e+02</td>\n",
       "    </tr>\n",
       "  </tbody>\n",
       "</table>\n",
       "</div>"
      ],
      "text/plain": [
       "        fare_amount  pickup_longitude  pickup_latitude  dropoff_longitude  \\\n",
       "count  5.542386e+07      5.542386e+07     5.542386e+07       5.542348e+07   \n",
       "mean   1.134505e+01     -7.250968e+01     3.991979e+01      -7.251121e+01   \n",
       "std    2.071083e+01      1.284888e+01     9.642353e+00       1.278220e+01   \n",
       "min   -3.000000e+02     -3.442060e+03    -3.492264e+03      -3.442025e+03   \n",
       "25%    6.000000e+00     -7.399207e+01     4.073493e+01      -7.399140e+01   \n",
       "50%    8.500000e+00     -7.398180e+01     4.075265e+01      -7.398015e+01   \n",
       "75%    1.250000e+01     -7.396708e+01     4.076713e+01      -7.396367e+01   \n",
       "max    9.396336e+04      3.457626e+03     3.408790e+03       3.457622e+03   \n",
       "\n",
       "       dropoff_latitude  passenger_count  \n",
       "count      5.542348e+07     5.542386e+07  \n",
       "mean       3.992068e+01     1.685380e+00  \n",
       "std        9.633346e+00     1.327664e+00  \n",
       "min       -3.547887e+03     0.000000e+00  \n",
       "25%        4.073403e+01     1.000000e+00  \n",
       "50%        4.075316e+01     1.000000e+00  \n",
       "75%        4.076810e+01     2.000000e+00  \n",
       "max        3.537133e+03     2.080000e+02  "
      ]
     },
     "execution_count": 6,
     "metadata": {},
     "output_type": "execute_result"
    }
   ],
   "source": [
    "train.describe()"
   ]
  },
  {
   "cell_type": "code",
   "execution_count": 11,
   "metadata": {
    "collapsed": true
   },
   "outputs": [],
   "source": [
    "#Fare amount is negative and it doesn't seem to be realistic\n",
    "#few longitude and lattitude entries are off\n",
    "#maximum passanger count is 208 which looks odd"
   ]
  },
  {
   "cell_type": "code",
   "execution_count": 12,
   "metadata": {
    "collapsed": true
   },
   "outputs": [],
   "source": [
    "train.dropna(how='any', axis=0, inplace = True)"
   ]
  },
  {
   "cell_type": "code",
   "execution_count": 13,
   "metadata": {},
   "outputs": [
    {
     "data": {
      "text/plain": [
       "(55423480, 8)"
      ]
     },
     "execution_count": 13,
     "metadata": {},
     "output_type": "execute_result"
    }
   ],
   "source": [
    "train.shape #drop 376 "
   ]
  },
  {
   "cell_type": "code",
   "execution_count": 14,
   "metadata": {
    "collapsed": true
   },
   "outputs": [],
   "source": [
    "train = train[train.fare_amount >=0]"
   ]
  },
  {
   "cell_type": "code",
   "execution_count": 15,
   "metadata": {},
   "outputs": [
    {
     "data": {
      "text/plain": [
       "(55421026, 8)"
      ]
     },
     "execution_count": 15,
     "metadata": {},
     "output_type": "execute_result"
    }
   ],
   "source": [
    "train.shape # drop 2454"
   ]
  },
  {
   "cell_type": "code",
   "execution_count": 16,
   "metadata": {},
   "outputs": [
    {
     "data": {
      "text/plain": [
       "(101, 8)"
      ]
     },
     "execution_count": 16,
     "metadata": {},
     "output_type": "execute_result"
    }
   ],
   "source": [
    "train[train.passenger_count >7].shape"
   ]
  },
  {
   "cell_type": "code",
   "execution_count": 17,
   "metadata": {
    "collapsed": true
   },
   "outputs": [],
   "source": [
    "train=train[train.passenger_count <=7]"
   ]
  },
  {
   "cell_type": "code",
   "execution_count": 18,
   "metadata": {},
   "outputs": [
    {
     "data": {
      "text/plain": [
       "(55420925, 8)"
      ]
     },
     "execution_count": 18,
     "metadata": {},
     "output_type": "execute_result"
    }
   ],
   "source": [
    "train.shape #drop 101"
   ]
  },
  {
   "cell_type": "code",
   "execution_count": 19,
   "metadata": {},
   "outputs": [
    {
     "data": {
      "text/plain": [
       "(195039, 8)"
      ]
     },
     "execution_count": 19,
     "metadata": {},
     "output_type": "execute_result"
    }
   ],
   "source": [
    "train[train.passenger_count ==0].shape"
   ]
  },
  {
   "cell_type": "code",
   "execution_count": 20,
   "metadata": {
    "collapsed": true
   },
   "outputs": [],
   "source": [
    "#Passanger count is incorrectly populated\n",
    "#Taxi was not carrying any passanger, may be taxi was used for goods"
   ]
  },
  {
   "cell_type": "code",
   "execution_count": 21,
   "metadata": {
    "collapsed": true
   },
   "outputs": [],
   "source": [
    "train=train[train.passenger_count >0]"
   ]
  },
  {
   "cell_type": "code",
   "execution_count": 22,
   "metadata": {},
   "outputs": [
    {
     "data": {
      "text/plain": [
       "(55225886, 8)"
      ]
     },
     "execution_count": 22,
     "metadata": {},
     "output_type": "execute_result"
    }
   ],
   "source": [
    "train.shape # drop 195k"
   ]
  },
  {
   "cell_type": "code",
   "execution_count": 8,
   "metadata": {},
   "outputs": [],
   "source": [
    "test = pd.read_csv(\"test.csv\")"
   ]
  },
  {
   "cell_type": "code",
   "execution_count": 9,
   "metadata": {},
   "outputs": [
    {
     "data": {
      "text/plain": [
       "(9914, 7)"
      ]
     },
     "execution_count": 9,
     "metadata": {},
     "output_type": "execute_result"
    }
   ],
   "source": [
    "test.shape"
   ]
  },
  {
   "cell_type": "code",
   "execution_count": 10,
   "metadata": {},
   "outputs": [
    {
     "data": {
      "text/html": [
       "<div>\n",
       "<table border=\"1\" class=\"dataframe\">\n",
       "  <thead>\n",
       "    <tr style=\"text-align: right;\">\n",
       "      <th></th>\n",
       "      <th>pickup_longitude</th>\n",
       "      <th>pickup_latitude</th>\n",
       "      <th>dropoff_longitude</th>\n",
       "      <th>dropoff_latitude</th>\n",
       "      <th>passenger_count</th>\n",
       "    </tr>\n",
       "  </thead>\n",
       "  <tbody>\n",
       "    <tr>\n",
       "      <th>count</th>\n",
       "      <td>9914.000000</td>\n",
       "      <td>9914.000000</td>\n",
       "      <td>9914.000000</td>\n",
       "      <td>9914.000000</td>\n",
       "      <td>9914.000000</td>\n",
       "    </tr>\n",
       "    <tr>\n",
       "      <th>mean</th>\n",
       "      <td>-73.974722</td>\n",
       "      <td>40.751041</td>\n",
       "      <td>-73.973657</td>\n",
       "      <td>40.751743</td>\n",
       "      <td>1.671273</td>\n",
       "    </tr>\n",
       "    <tr>\n",
       "      <th>std</th>\n",
       "      <td>0.042774</td>\n",
       "      <td>0.033541</td>\n",
       "      <td>0.039072</td>\n",
       "      <td>0.035435</td>\n",
       "      <td>1.278747</td>\n",
       "    </tr>\n",
       "    <tr>\n",
       "      <th>min</th>\n",
       "      <td>-74.252193</td>\n",
       "      <td>40.573143</td>\n",
       "      <td>-74.263242</td>\n",
       "      <td>40.568973</td>\n",
       "      <td>1.000000</td>\n",
       "    </tr>\n",
       "    <tr>\n",
       "      <th>25%</th>\n",
       "      <td>-73.992501</td>\n",
       "      <td>40.736125</td>\n",
       "      <td>-73.991247</td>\n",
       "      <td>40.735254</td>\n",
       "      <td>1.000000</td>\n",
       "    </tr>\n",
       "    <tr>\n",
       "      <th>50%</th>\n",
       "      <td>-73.982326</td>\n",
       "      <td>40.753051</td>\n",
       "      <td>-73.980015</td>\n",
       "      <td>40.754065</td>\n",
       "      <td>1.000000</td>\n",
       "    </tr>\n",
       "    <tr>\n",
       "      <th>75%</th>\n",
       "      <td>-73.968013</td>\n",
       "      <td>40.767113</td>\n",
       "      <td>-73.964059</td>\n",
       "      <td>40.768757</td>\n",
       "      <td>2.000000</td>\n",
       "    </tr>\n",
       "    <tr>\n",
       "      <th>max</th>\n",
       "      <td>-72.986532</td>\n",
       "      <td>41.709555</td>\n",
       "      <td>-72.990963</td>\n",
       "      <td>41.696683</td>\n",
       "      <td>6.000000</td>\n",
       "    </tr>\n",
       "  </tbody>\n",
       "</table>\n",
       "</div>"
      ],
      "text/plain": [
       "       pickup_longitude  pickup_latitude  dropoff_longitude  dropoff_latitude  \\\n",
       "count       9914.000000      9914.000000        9914.000000       9914.000000   \n",
       "mean         -73.974722        40.751041         -73.973657         40.751743   \n",
       "std            0.042774         0.033541           0.039072          0.035435   \n",
       "min          -74.252193        40.573143         -74.263242         40.568973   \n",
       "25%          -73.992501        40.736125         -73.991247         40.735254   \n",
       "50%          -73.982326        40.753051         -73.980015         40.754065   \n",
       "75%          -73.968013        40.767113         -73.964059         40.768757   \n",
       "max          -72.986532        41.709555         -72.990963         41.696683   \n",
       "\n",
       "       passenger_count  \n",
       "count      9914.000000  \n",
       "mean          1.671273  \n",
       "std           1.278747  \n",
       "min           1.000000  \n",
       "25%           1.000000  \n",
       "50%           1.000000  \n",
       "75%           2.000000  \n",
       "max           6.000000  "
      ]
     },
     "execution_count": 10,
     "metadata": {},
     "output_type": "execute_result"
    }
   ],
   "source": [
    "test.describe()"
   ]
  },
  {
   "cell_type": "code",
   "execution_count": 23,
   "metadata": {
    "collapsed": true
   },
   "outputs": [],
   "source": [
    "#store the minimum and maximum of the longitude and latitude from test data set and filter the train data set for those data points"
   ]
  },
  {
   "cell_type": "code",
   "execution_count": 24,
   "metadata": {},
   "outputs": [
    {
     "data": {
      "text/plain": [
       "(-74.263242000000005, -72.986531999999997)"
      ]
     },
     "execution_count": 24,
     "metadata": {},
     "output_type": "execute_result"
    }
   ],
   "source": [
    "min(test.pickup_longitude.min(),test.dropoff_longitude.min()), \\\n",
    "max(test.pickup_longitude.max(),test.dropoff_longitude.max())"
   ]
  },
  {
   "cell_type": "code",
   "execution_count": 25,
   "metadata": {},
   "outputs": [
    {
     "data": {
      "text/plain": [
       "(40.568973, 41.709555000000002)"
      ]
     },
     "execution_count": 25,
     "metadata": {},
     "output_type": "execute_result"
    }
   ],
   "source": [
    "min(test.pickup_latitude.min(),test.dropoff_latitude.min()), \\\n",
    "max(test.pickup_latitude.max(),test.dropoff_latitude.max())"
   ]
  },
  {
   "cell_type": "code",
   "execution_count": 26,
   "metadata": {
    "collapsed": true
   },
   "outputs": [],
   "source": [
    "def select_within_test_boundary(df, BB):\n",
    "    return (df.pickup_longitude >= BB[0]) & (df.pickup_longitude <= BB[1]) & \\\n",
    "           (df.pickup_latitude >= BB[2]) & (df.pickup_latitude <= BB[3]) & \\\n",
    "           (df.dropoff_longitude >= BB[0]) & (df.dropoff_longitude <= BB[1]) & \\\n",
    "           (df.dropoff_latitude >= BB[2]) & (df.dropoff_latitude <= BB[3])"
   ]
  },
  {
   "cell_type": "code",
   "execution_count": 27,
   "metadata": {},
   "outputs": [
    {
     "data": {
      "text/plain": [
       "(54055894, 8)"
      ]
     },
     "execution_count": 27,
     "metadata": {},
     "output_type": "execute_result"
    }
   ],
   "source": [
    "BB = (-74.5, -72.8, 40.5, 41.7)\n",
    "train = train[select_within_test_boundary(train, BB)]\n",
    "train.shape # drop 1,169,992"
   ]
  },
  {
   "cell_type": "code",
   "execution_count": 28,
   "metadata": {},
   "outputs": [
    {
     "data": {
      "text/html": [
       "<div>\n",
       "<table border=\"1\" class=\"dataframe\">\n",
       "  <thead>\n",
       "    <tr style=\"text-align: right;\">\n",
       "      <th></th>\n",
       "      <th>key</th>\n",
       "      <th>fare_amount</th>\n",
       "      <th>pickup_datetime</th>\n",
       "      <th>pickup_longitude</th>\n",
       "      <th>pickup_latitude</th>\n",
       "      <th>dropoff_longitude</th>\n",
       "      <th>dropoff_latitude</th>\n",
       "      <th>passenger_count</th>\n",
       "    </tr>\n",
       "  </thead>\n",
       "  <tbody>\n",
       "    <tr>\n",
       "      <th>0</th>\n",
       "      <td>2009-06-15 17:26:21.0000001</td>\n",
       "      <td>4.5</td>\n",
       "      <td>2009-06-15 17:26:21 UTC</td>\n",
       "      <td>-73.844311</td>\n",
       "      <td>40.721319</td>\n",
       "      <td>-73.841610</td>\n",
       "      <td>40.712278</td>\n",
       "      <td>1</td>\n",
       "    </tr>\n",
       "    <tr>\n",
       "      <th>1</th>\n",
       "      <td>2010-01-05 16:52:16.0000002</td>\n",
       "      <td>16.9</td>\n",
       "      <td>2010-01-05 16:52:16 UTC</td>\n",
       "      <td>-74.016048</td>\n",
       "      <td>40.711303</td>\n",
       "      <td>-73.979268</td>\n",
       "      <td>40.782004</td>\n",
       "      <td>1</td>\n",
       "    </tr>\n",
       "    <tr>\n",
       "      <th>2</th>\n",
       "      <td>2011-08-18 00:35:00.00000049</td>\n",
       "      <td>5.7</td>\n",
       "      <td>2011-08-18 00:35:00 UTC</td>\n",
       "      <td>-73.982738</td>\n",
       "      <td>40.761270</td>\n",
       "      <td>-73.991242</td>\n",
       "      <td>40.750562</td>\n",
       "      <td>2</td>\n",
       "    </tr>\n",
       "    <tr>\n",
       "      <th>3</th>\n",
       "      <td>2012-04-21 04:30:42.0000001</td>\n",
       "      <td>7.7</td>\n",
       "      <td>2012-04-21 04:30:42 UTC</td>\n",
       "      <td>-73.987130</td>\n",
       "      <td>40.733143</td>\n",
       "      <td>-73.991567</td>\n",
       "      <td>40.758092</td>\n",
       "      <td>1</td>\n",
       "    </tr>\n",
       "    <tr>\n",
       "      <th>4</th>\n",
       "      <td>2010-03-09 07:51:00.000000135</td>\n",
       "      <td>5.3</td>\n",
       "      <td>2010-03-09 07:51:00 UTC</td>\n",
       "      <td>-73.968095</td>\n",
       "      <td>40.768008</td>\n",
       "      <td>-73.956655</td>\n",
       "      <td>40.783762</td>\n",
       "      <td>1</td>\n",
       "    </tr>\n",
       "  </tbody>\n",
       "</table>\n",
       "</div>"
      ],
      "text/plain": [
       "                             key  fare_amount          pickup_datetime  \\\n",
       "0    2009-06-15 17:26:21.0000001          4.5  2009-06-15 17:26:21 UTC   \n",
       "1    2010-01-05 16:52:16.0000002         16.9  2010-01-05 16:52:16 UTC   \n",
       "2   2011-08-18 00:35:00.00000049          5.7  2011-08-18 00:35:00 UTC   \n",
       "3    2012-04-21 04:30:42.0000001          7.7  2012-04-21 04:30:42 UTC   \n",
       "4  2010-03-09 07:51:00.000000135          5.3  2010-03-09 07:51:00 UTC   \n",
       "\n",
       "   pickup_longitude  pickup_latitude  dropoff_longitude  dropoff_latitude  \\\n",
       "0        -73.844311        40.721319         -73.841610         40.712278   \n",
       "1        -74.016048        40.711303         -73.979268         40.782004   \n",
       "2        -73.982738        40.761270         -73.991242         40.750562   \n",
       "3        -73.987130        40.733143         -73.991567         40.758092   \n",
       "4        -73.968095        40.768008         -73.956655         40.783762   \n",
       "\n",
       "   passenger_count  \n",
       "0                1  \n",
       "1                1  \n",
       "2                2  \n",
       "3                1  \n",
       "4                1  "
      ]
     },
     "execution_count": 28,
     "metadata": {},
     "output_type": "execute_result"
    }
   ],
   "source": [
    "train.head() "
   ]
  },
  {
   "cell_type": "code",
   "execution_count": 29,
   "metadata": {},
   "outputs": [
    {
     "data": {
      "text/html": [
       "<div>\n",
       "<table border=\"1\" class=\"dataframe\">\n",
       "  <thead>\n",
       "    <tr style=\"text-align: right;\">\n",
       "      <th></th>\n",
       "      <th>key</th>\n",
       "      <th>fare_amount</th>\n",
       "      <th>pickup_datetime</th>\n",
       "      <th>pickup_longitude</th>\n",
       "      <th>pickup_latitude</th>\n",
       "      <th>dropoff_longitude</th>\n",
       "      <th>dropoff_latitude</th>\n",
       "      <th>passenger_count</th>\n",
       "    </tr>\n",
       "  </thead>\n",
       "  <tbody>\n",
       "    <tr>\n",
       "      <th>55423851</th>\n",
       "      <td>2014-03-15 03:28:00.00000070</td>\n",
       "      <td>14.0</td>\n",
       "      <td>2014-03-15 03:28:00 UTC</td>\n",
       "      <td>-74.005272</td>\n",
       "      <td>40.740027</td>\n",
       "      <td>-73.963280</td>\n",
       "      <td>40.762555</td>\n",
       "      <td>1</td>\n",
       "    </tr>\n",
       "    <tr>\n",
       "      <th>55423852</th>\n",
       "      <td>2009-03-24 20:46:20.0000002</td>\n",
       "      <td>4.2</td>\n",
       "      <td>2009-03-24 20:46:20 UTC</td>\n",
       "      <td>-73.957784</td>\n",
       "      <td>40.765530</td>\n",
       "      <td>-73.951640</td>\n",
       "      <td>40.773959</td>\n",
       "      <td>1</td>\n",
       "    </tr>\n",
       "    <tr>\n",
       "      <th>55423853</th>\n",
       "      <td>2011-04-02 22:04:24.0000004</td>\n",
       "      <td>14.1</td>\n",
       "      <td>2011-04-02 22:04:24 UTC</td>\n",
       "      <td>-73.970505</td>\n",
       "      <td>40.752325</td>\n",
       "      <td>-73.960537</td>\n",
       "      <td>40.797342</td>\n",
       "      <td>1</td>\n",
       "    </tr>\n",
       "    <tr>\n",
       "      <th>55423854</th>\n",
       "      <td>2011-10-26 05:57:51.0000002</td>\n",
       "      <td>28.9</td>\n",
       "      <td>2011-10-26 05:57:51 UTC</td>\n",
       "      <td>-73.980901</td>\n",
       "      <td>40.764629</td>\n",
       "      <td>-73.870605</td>\n",
       "      <td>40.773963</td>\n",
       "      <td>1</td>\n",
       "    </tr>\n",
       "    <tr>\n",
       "      <th>55423855</th>\n",
       "      <td>2014-12-12 11:33:00.00000015</td>\n",
       "      <td>7.5</td>\n",
       "      <td>2014-12-12 11:33:00 UTC</td>\n",
       "      <td>-73.969722</td>\n",
       "      <td>40.797668</td>\n",
       "      <td>-73.970885</td>\n",
       "      <td>40.783313</td>\n",
       "      <td>1</td>\n",
       "    </tr>\n",
       "  </tbody>\n",
       "</table>\n",
       "</div>"
      ],
      "text/plain": [
       "                                   key  fare_amount          pickup_datetime  \\\n",
       "55423851  2014-03-15 03:28:00.00000070         14.0  2014-03-15 03:28:00 UTC   \n",
       "55423852   2009-03-24 20:46:20.0000002          4.2  2009-03-24 20:46:20 UTC   \n",
       "55423853   2011-04-02 22:04:24.0000004         14.1  2011-04-02 22:04:24 UTC   \n",
       "55423854   2011-10-26 05:57:51.0000002         28.9  2011-10-26 05:57:51 UTC   \n",
       "55423855  2014-12-12 11:33:00.00000015          7.5  2014-12-12 11:33:00 UTC   \n",
       "\n",
       "          pickup_longitude  pickup_latitude  dropoff_longitude  \\\n",
       "55423851        -74.005272        40.740027         -73.963280   \n",
       "55423852        -73.957784        40.765530         -73.951640   \n",
       "55423853        -73.970505        40.752325         -73.960537   \n",
       "55423854        -73.980901        40.764629         -73.870605   \n",
       "55423855        -73.969722        40.797668         -73.970885   \n",
       "\n",
       "          dropoff_latitude  passenger_count  \n",
       "55423851         40.762555                1  \n",
       "55423852         40.773959                1  \n",
       "55423853         40.797342                1  \n",
       "55423854         40.773963                1  \n",
       "55423855         40.783313                1  "
      ]
     },
     "execution_count": 29,
     "metadata": {},
     "output_type": "execute_result"
    }
   ],
   "source": [
    "train.tail()"
   ]
  },
  {
   "cell_type": "code",
   "execution_count": 30,
   "metadata": {},
   "outputs": [
    {
     "data": {
      "text/html": [
       "<div>\n",
       "<table border=\"1\" class=\"dataframe\">\n",
       "  <thead>\n",
       "    <tr style=\"text-align: right;\">\n",
       "      <th></th>\n",
       "      <th>key</th>\n",
       "      <th>pickup_datetime</th>\n",
       "      <th>pickup_longitude</th>\n",
       "      <th>pickup_latitude</th>\n",
       "      <th>dropoff_longitude</th>\n",
       "      <th>dropoff_latitude</th>\n",
       "      <th>passenger_count</th>\n",
       "    </tr>\n",
       "  </thead>\n",
       "  <tbody>\n",
       "    <tr>\n",
       "      <th>0</th>\n",
       "      <td>2015-01-27 13:08:24.0000002</td>\n",
       "      <td>2015-01-27 13:08:24 UTC</td>\n",
       "      <td>-73.973320</td>\n",
       "      <td>40.763805</td>\n",
       "      <td>-73.981430</td>\n",
       "      <td>40.743835</td>\n",
       "      <td>1</td>\n",
       "    </tr>\n",
       "    <tr>\n",
       "      <th>1</th>\n",
       "      <td>2015-01-27 13:08:24.0000003</td>\n",
       "      <td>2015-01-27 13:08:24 UTC</td>\n",
       "      <td>-73.986862</td>\n",
       "      <td>40.719383</td>\n",
       "      <td>-73.998886</td>\n",
       "      <td>40.739201</td>\n",
       "      <td>1</td>\n",
       "    </tr>\n",
       "    <tr>\n",
       "      <th>2</th>\n",
       "      <td>2011-10-08 11:53:44.0000002</td>\n",
       "      <td>2011-10-08 11:53:44 UTC</td>\n",
       "      <td>-73.982524</td>\n",
       "      <td>40.751260</td>\n",
       "      <td>-73.979654</td>\n",
       "      <td>40.746139</td>\n",
       "      <td>1</td>\n",
       "    </tr>\n",
       "    <tr>\n",
       "      <th>3</th>\n",
       "      <td>2012-12-01 21:12:12.0000002</td>\n",
       "      <td>2012-12-01 21:12:12 UTC</td>\n",
       "      <td>-73.981160</td>\n",
       "      <td>40.767807</td>\n",
       "      <td>-73.990448</td>\n",
       "      <td>40.751635</td>\n",
       "      <td>1</td>\n",
       "    </tr>\n",
       "    <tr>\n",
       "      <th>4</th>\n",
       "      <td>2012-12-01 21:12:12.0000003</td>\n",
       "      <td>2012-12-01 21:12:12 UTC</td>\n",
       "      <td>-73.966046</td>\n",
       "      <td>40.789775</td>\n",
       "      <td>-73.988565</td>\n",
       "      <td>40.744427</td>\n",
       "      <td>1</td>\n",
       "    </tr>\n",
       "  </tbody>\n",
       "</table>\n",
       "</div>"
      ],
      "text/plain": [
       "                           key          pickup_datetime  pickup_longitude  \\\n",
       "0  2015-01-27 13:08:24.0000002  2015-01-27 13:08:24 UTC        -73.973320   \n",
       "1  2015-01-27 13:08:24.0000003  2015-01-27 13:08:24 UTC        -73.986862   \n",
       "2  2011-10-08 11:53:44.0000002  2011-10-08 11:53:44 UTC        -73.982524   \n",
       "3  2012-12-01 21:12:12.0000002  2012-12-01 21:12:12 UTC        -73.981160   \n",
       "4  2012-12-01 21:12:12.0000003  2012-12-01 21:12:12 UTC        -73.966046   \n",
       "\n",
       "   pickup_latitude  dropoff_longitude  dropoff_latitude  passenger_count  \n",
       "0        40.763805         -73.981430         40.743835                1  \n",
       "1        40.719383         -73.998886         40.739201                1  \n",
       "2        40.751260         -73.979654         40.746139                1  \n",
       "3        40.767807         -73.990448         40.751635                1  \n",
       "4        40.789775         -73.988565         40.744427                1  "
      ]
     },
     "execution_count": 30,
     "metadata": {},
     "output_type": "execute_result"
    }
   ],
   "source": [
    "test.head() "
   ]
  },
  {
   "cell_type": "code",
   "execution_count": 31,
   "metadata": {},
   "outputs": [
    {
     "data": {
      "text/html": [
       "<div>\n",
       "<table border=\"1\" class=\"dataframe\">\n",
       "  <thead>\n",
       "    <tr style=\"text-align: right;\">\n",
       "      <th></th>\n",
       "      <th>key</th>\n",
       "      <th>pickup_datetime</th>\n",
       "      <th>pickup_longitude</th>\n",
       "      <th>pickup_latitude</th>\n",
       "      <th>dropoff_longitude</th>\n",
       "      <th>dropoff_latitude</th>\n",
       "      <th>passenger_count</th>\n",
       "    </tr>\n",
       "  </thead>\n",
       "  <tbody>\n",
       "    <tr>\n",
       "      <th>9909</th>\n",
       "      <td>2015-05-10 12:37:51.0000002</td>\n",
       "      <td>2015-05-10 12:37:51 UTC</td>\n",
       "      <td>-73.968124</td>\n",
       "      <td>40.796997</td>\n",
       "      <td>-73.955643</td>\n",
       "      <td>40.780388</td>\n",
       "      <td>6</td>\n",
       "    </tr>\n",
       "    <tr>\n",
       "      <th>9910</th>\n",
       "      <td>2015-01-12 17:05:51.0000001</td>\n",
       "      <td>2015-01-12 17:05:51 UTC</td>\n",
       "      <td>-73.945511</td>\n",
       "      <td>40.803600</td>\n",
       "      <td>-73.960213</td>\n",
       "      <td>40.776371</td>\n",
       "      <td>6</td>\n",
       "    </tr>\n",
       "    <tr>\n",
       "      <th>9911</th>\n",
       "      <td>2015-04-19 20:44:15.0000001</td>\n",
       "      <td>2015-04-19 20:44:15 UTC</td>\n",
       "      <td>-73.991600</td>\n",
       "      <td>40.726608</td>\n",
       "      <td>-73.789742</td>\n",
       "      <td>40.647011</td>\n",
       "      <td>6</td>\n",
       "    </tr>\n",
       "    <tr>\n",
       "      <th>9912</th>\n",
       "      <td>2015-01-31 01:05:19.0000005</td>\n",
       "      <td>2015-01-31 01:05:19 UTC</td>\n",
       "      <td>-73.985573</td>\n",
       "      <td>40.735432</td>\n",
       "      <td>-73.939178</td>\n",
       "      <td>40.801731</td>\n",
       "      <td>6</td>\n",
       "    </tr>\n",
       "    <tr>\n",
       "      <th>9913</th>\n",
       "      <td>2015-01-18 14:06:23.0000006</td>\n",
       "      <td>2015-01-18 14:06:23 UTC</td>\n",
       "      <td>-73.988022</td>\n",
       "      <td>40.754070</td>\n",
       "      <td>-74.000282</td>\n",
       "      <td>40.759220</td>\n",
       "      <td>6</td>\n",
       "    </tr>\n",
       "  </tbody>\n",
       "</table>\n",
       "</div>"
      ],
      "text/plain": [
       "                              key          pickup_datetime  pickup_longitude  \\\n",
       "9909  2015-05-10 12:37:51.0000002  2015-05-10 12:37:51 UTC        -73.968124   \n",
       "9910  2015-01-12 17:05:51.0000001  2015-01-12 17:05:51 UTC        -73.945511   \n",
       "9911  2015-04-19 20:44:15.0000001  2015-04-19 20:44:15 UTC        -73.991600   \n",
       "9912  2015-01-31 01:05:19.0000005  2015-01-31 01:05:19 UTC        -73.985573   \n",
       "9913  2015-01-18 14:06:23.0000006  2015-01-18 14:06:23 UTC        -73.988022   \n",
       "\n",
       "      pickup_latitude  dropoff_longitude  dropoff_latitude  passenger_count  \n",
       "9909        40.796997         -73.955643         40.780388                6  \n",
       "9910        40.803600         -73.960213         40.776371                6  \n",
       "9911        40.726608         -73.789742         40.647011                6  \n",
       "9912        40.735432         -73.939178         40.801731                6  \n",
       "9913        40.754070         -74.000282         40.759220                6  "
      ]
     },
     "execution_count": 31,
     "metadata": {},
     "output_type": "execute_result"
    }
   ],
   "source": [
    "test.tail() "
   ]
  },
  {
   "cell_type": "code",
   "execution_count": null,
   "metadata": {
    "collapsed": true
   },
   "outputs": [],
   "source": [
    "# eda sample 2,000,000 obs"
   ]
  },
  {
   "cell_type": "code",
   "execution_count": 33,
   "metadata": {
    "collapsed": true
   },
   "outputs": [],
   "source": [
    "train_sample = train.sample(n=2000000)"
   ]
  },
  {
   "cell_type": "code",
   "execution_count": 34,
   "metadata": {},
   "outputs": [
    {
     "data": {
      "text/plain": [
       "(2000000, 8)"
      ]
     },
     "execution_count": 34,
     "metadata": {},
     "output_type": "execute_result"
    }
   ],
   "source": [
    "train_sample.shape"
   ]
  },
  {
   "cell_type": "code",
   "execution_count": 35,
   "metadata": {},
   "outputs": [
    {
     "data": {
      "text/plain": [
       "<matplotlib.text.Text at 0x458f1ef10>"
      ]
     },
     "execution_count": 35,
     "metadata": {},
     "output_type": "execute_result"
    },
    {
     "data": {
      "image/png": "[encoded data removed]",
      "text/plain": [
       "<matplotlib.figure.Figure at 0x456a056d0>"
      ]
     },
     "metadata": {},
     "output_type": "display_data"
    }
   ],
   "source": [
    "# Lets see the distribution of fare amount \n",
    "train_sample.fare_amount.hist(bins=100, figsize = (16,8))\n",
    "plt.xlabel(\"Fare Amount\")\n",
    "plt.ylabel(\"Frequency\")"
   ]
  },
  {
   "cell_type": "code",
   "execution_count": 36,
   "metadata": {},
   "outputs": [
    {
     "data": {
      "text/plain": [
       "<matplotlib.text.Text at 0x460a476d0>"
      ]
     },
     "execution_count": 36,
     "metadata": {},
     "output_type": "execute_result"
    },
    {
     "data": {
      "image/png": "[encoded data removed]",
      "text/plain": [
       "<matplotlib.figure.Figure at 0x457653c10>"
      ]
     },
     "metadata": {},
     "output_type": "display_data"
    }
   ],
   "source": [
    "# Lets see the distribution of fare amount less than 100\n",
    "train_sample[train_sample.fare_amount <=100 ].fare_amount.hist(bins=100, figsize = (16,8))\n",
    "plt.xlabel(\"Fare Amount\")\n",
    "plt.ylabel(\"Frequency\")"
   ]
  },
  {
   "cell_type": "code",
   "execution_count": 37,
   "metadata": {
    "collapsed": true
   },
   "outputs": [],
   "source": [
    "#There are few points between 40 and 60 dollars which has slightly high frequency and that could be airport trips"
   ]
  },
  {
   "cell_type": "code",
   "execution_count": 38,
   "metadata": {},
   "outputs": [
    {
     "data": {
      "text/plain": [
       "<matplotlib.text.Text at 0x39fdde650>"
      ]
     },
     "execution_count": 38,
     "metadata": {},
     "output_type": "execute_result"
    },
    {
     "data": {
      "image/png": "[encoded data removed]",
      "text/plain": [
       "<matplotlib.figure.Figure at 0x39f667050>"
      ]
     },
     "metadata": {},
     "output_type": "display_data"
    }
   ],
   "source": [
    "train_sample[train_sample.fare_amount >100 ].fare_amount.hist(bins=100, figsize = (16,8))\n",
    "plt.xlabel(\"Fare Amount\")\n",
    "plt.ylabel(\"Frequency\")"
   ]
  },
  {
   "cell_type": "code",
   "execution_count": null,
   "metadata": {
    "collapsed": true
   },
   "outputs": [],
   "source": [
    "#some of them might be outliers or few of them might be long distance trip from/to airport"
   ]
  },
  {
   "cell_type": "code",
   "execution_count": 39,
   "metadata": {},
   "outputs": [
    {
     "data": {
      "text/plain": [
       "<matplotlib.text.Text at 0x39e844e10>"
      ]
     },
     "execution_count": 39,
     "metadata": {},
     "output_type": "execute_result"
    },
    {
     "data": {
      "image/png": "[encoded data removed]",
      "text/plain": [
       "<matplotlib.figure.Figure at 0x39d26e9d0>"
      ]
     },
     "metadata": {},
     "output_type": "display_data"
    }
   ],
   "source": [
    "train_sample.passenger_count.hist(bins=10, figsize = (16,8))\n",
    "plt.xlabel(\"Passanger Count\")\n",
    "plt.ylabel(\"Frequency\")"
   ]
  },
  {
   "cell_type": "code",
   "execution_count": 41,
   "metadata": {},
   "outputs": [
    {
     "data": {
      "text/plain": [
       "<matplotlib.axes._subplots.AxesSubplot at 0x39cf32110>"
      ]
     },
     "execution_count": 41,
     "metadata": {},
     "output_type": "execute_result"
    },
    {
     "data": {
      "image/png": "[encoded data removed]",
      "text/plain": [
       "<matplotlib.figure.Figure at 0x39ce54790>"
      ]
     },
     "metadata": {},
     "output_type": "display_data"
    }
   ],
   "source": [
    "plt.figure(figsize= (16,8))\n",
    "sns.boxplot(x = train_sample.passenger_count, y = train.fare_amount)"
   ]
  },
  {
   "cell_type": "code",
   "execution_count": 60,
   "metadata": {},
   "outputs": [
    {
     "data": {
      "image/png": "[encoded data removed]",
      "text/plain": [
       "<matplotlib.figure.Figure at 0x3a016c350>"
      ]
     },
     "metadata": {},
     "output_type": "display_data"
    }
   ],
   "source": [
    "f, ax = plt.subplots(1,2,figsize = [10,5])\n",
    "sns.countplot(train_sample[\"passenger_count\"], ax=ax[0])\n",
    "sns.countplot(test[\"passenger_count\"], ax=ax[1])\n",
    "ax[0].set_title(\"Train Set - Passenger Count\")\n",
    "ax[1].set_title(\"Test Set - Passenger Count\")\n",
    "plt.show()"
   ]
  },
  {
   "cell_type": "code",
   "execution_count": 42,
   "metadata": {
    "collapsed": true
   },
   "outputs": [],
   "source": [
    "# feature engineering\n",
    "# time\n",
    "# distance"
   ]
  },
  {
   "cell_type": "code",
   "execution_count": 43,
   "metadata": {
    "collapsed": true
   },
   "outputs": [],
   "source": [
    "def prepare_time_features(df):\n",
    "    df['pickup_datetime'] = df['pickup_datetime'].str.replace(\" UTC\", \"\")\n",
    "    df['pickup_datetime'] = pd.to_datetime(df['pickup_datetime'], format='%Y-%m-%d %H:%M:%S')\n",
    "    df['hour_of_day'] = df.pickup_datetime.dt.hour\n",
    "    df['week'] = df.pickup_datetime.dt.week\n",
    "    df['month'] = df.pickup_datetime.dt.month\n",
    "    df[\"year\"] = df.pickup_datetime.dt.year\n",
    "    df['day_of_year'] = df.pickup_datetime.dt.dayofyear\n",
    "    df['week_of_year'] = df.pickup_datetime.dt.weekofyear\n",
    "    df[\"weekday\"] = df.pickup_datetime.dt.weekday\n",
    "    df[\"quarter\"] = df.pickup_datetime.dt.quarter\n",
    "    df[\"day_of_month\"] = df.pickup_datetime.dt.day\n",
    "    return df"
   ]
  },
  {
   "cell_type": "code",
   "execution_count": 44,
   "metadata": {
    "collapsed": true
   },
   "outputs": [],
   "source": [
    "train = prepare_time_features(train)\n",
    "test = prepare_time_features(test)"
   ]
  },
  {
   "cell_type": "code",
   "execution_count": null,
   "metadata": {
    "collapsed": true
   },
   "outputs": [],
   "source": [
    "train.shape"
   ]
  },
  {
   "cell_type": "code",
   "execution_count": 45,
   "metadata": {},
   "outputs": [
    {
     "data": {
      "text/plain": [
       "(9914, 16)"
      ]
     },
     "execution_count": 45,
     "metadata": {},
     "output_type": "execute_result"
    }
   ],
   "source": [
    "test.shape # add 9 time features"
   ]
  },
  {
   "cell_type": "code",
   "execution_count": 46,
   "metadata": {
    "collapsed": true
   },
   "outputs": [],
   "source": [
    "# calculate-distance-between-two-latitude-longitude-points-haversine-formula \n",
    "# Returns distance in miles\n",
    "def distance(lat1, lon1, lat2, lon2):\n",
    "    p = 0.017453292519943295 # Pi/180\n",
    "    a = 0.5 - np.cos((lat2 - lat1) * p)/2 + np.cos(lat1 * p) * np.cos(lat2 * p) * (1 - np.cos((lon2 - lon1) * p)) / 2\n",
    "    return 0.6213712 * 12742 * np.arcsin(np.sqrt(a))"
   ]
  },
  {
   "cell_type": "code",
   "execution_count": 47,
   "metadata": {
    "collapsed": true
   },
   "outputs": [],
   "source": [
    "train['distance_miles'] = distance(train.pickup_latitude, train.pickup_longitude, \\\n",
    "                                      train.dropoff_latitude, train.dropoff_longitude)"
   ]
  },
  {
   "cell_type": "code",
   "execution_count": 48,
   "metadata": {
    "collapsed": true
   },
   "outputs": [],
   "source": [
    "test['distance_miles'] = distance(test.pickup_latitude, test.pickup_longitude, \\\n",
    "                                      test.dropoff_latitude, test.dropoff_longitude)"
   ]
  },
  {
   "cell_type": "code",
   "execution_count": 49,
   "metadata": {},
   "outputs": [
    {
     "data": {
      "text/plain": [
       "(178, 18)"
      ]
     },
     "execution_count": 49,
     "metadata": {},
     "output_type": "execute_result"
    }
   ],
   "source": [
    "train[(train['distance_miles']==0)&(train['fare_amount']==0)].shape"
   ]
  },
  {
   "cell_type": "code",
   "execution_count": 51,
   "metadata": {},
   "outputs": [
    {
     "data": {
      "text/plain": [
       "(54055716, 18)"
      ]
     },
     "execution_count": 51,
     "metadata": {},
     "output_type": "execute_result"
    }
   ],
   "source": [
    "train = train.drop(train[(train['distance_miles']==0)&(train['fare_amount']==0)].index, axis=0)\n",
    "train.shape # drop 178 obs "
   ]
  },
  {
   "cell_type": "code",
   "execution_count": 52,
   "metadata": {
    "collapsed": true
   },
   "outputs": [],
   "source": [
    "# Calculating pickup and drop distance from all 3 airports of Air Ports\n",
    "def transform(data):\n",
    "    # Distances to nearby airports, \n",
    "    jfk = (-73.7781, 40.6413)\n",
    "    ewr = (-74.1745, 40.6895)\n",
    "    lgr = (-73.8740, 40.7769)\n",
    "\n",
    "    data['pickup_distance_to_jfk'] = distance(jfk[1], jfk[0],\n",
    "                                         data['pickup_latitude'], data['pickup_longitude'])\n",
    "    data['dropoff_distance_to_jfk'] = distance(jfk[1], jfk[0],\n",
    "                                           data['dropoff_latitude'], data['dropoff_longitude'])\n",
    "    data['pickup_distance_to_ewr'] = distance(ewr[1], ewr[0], \n",
    "                                          data['pickup_latitude'], data['pickup_longitude'])\n",
    "    data['dropoff_distance_to_ewr'] = distance(ewr[1], ewr[0],\n",
    "                                           data['dropoff_latitude'], data['dropoff_longitude'])\n",
    "    data['pickup_distance_to_lgr'] = distance(lgr[1], lgr[0],\n",
    "                                          data['pickup_latitude'], data['pickup_longitude'])\n",
    "    data['dropoff_distance_to_lgr'] = distance(lgr[1], lgr[0],\n",
    "                                           data['dropoff_latitude'], data['dropoff_longitude'])\n",
    "    \n",
    "    return data"
   ]
  },
  {
   "cell_type": "code",
   "execution_count": 53,
   "metadata": {
    "collapsed": true
   },
   "outputs": [],
   "source": [
    "train = transform(train)\n",
    "test = transform(test)"
   ]
  },
  {
   "cell_type": "code",
   "execution_count": 54,
   "metadata": {},
   "outputs": [
    {
     "data": {
      "text/plain": [
       "(54055716, 24)"
      ]
     },
     "execution_count": 54,
     "metadata": {},
     "output_type": "execute_result"
    }
   ],
   "source": [
    "train.shape # add 7 distance features totally"
   ]
  },
  {
   "cell_type": "code",
   "execution_count": 55,
   "metadata": {},
   "outputs": [
    {
     "data": {
      "text/plain": [
       "(1651, 24)"
      ]
     },
     "execution_count": 55,
     "metadata": {},
     "output_type": "execute_result"
    }
   ],
   "source": [
    "train[train['fare_amount'] < 2.5].shape"
   ]
  },
  {
   "cell_type": "code",
   "execution_count": 56,
   "metadata": {
    "collapsed": true
   },
   "outputs": [],
   "source": [
    "#the base fare for any taxi in new york is 2.5 dollars, we will drop those cases"
   ]
  },
  {
   "cell_type": "code",
   "execution_count": 57,
   "metadata": {
    "collapsed": true
   },
   "outputs": [],
   "source": [
    "train = train.drop(train[train['fare_amount'] < 2.5].index, axis=0)"
   ]
  },
  {
   "cell_type": "code",
   "execution_count": 58,
   "metadata": {},
   "outputs": [
    {
     "data": {
      "text/plain": [
       "(54054065, 24)"
      ]
     },
     "execution_count": 58,
     "metadata": {},
     "output_type": "execute_result"
    }
   ],
   "source": [
    "train.shape"
   ]
  },
  {
   "cell_type": "code",
   "execution_count": 59,
   "metadata": {},
   "outputs": [
    {
     "data": {
      "text/plain": [
       "(9914, 23)"
      ]
     },
     "execution_count": 59,
     "metadata": {},
     "output_type": "execute_result"
    }
   ],
   "source": [
    "test.shape"
   ]
  },
  {
   "cell_type": "code",
   "execution_count": 61,
   "metadata": {},
   "outputs": [
    {
     "data": {
      "text/html": [
       "<div>\n",
       "<table border=\"1\" class=\"dataframe\">\n",
       "  <thead>\n",
       "    <tr style=\"text-align: right;\">\n",
       "      <th></th>\n",
       "      <th>key</th>\n",
       "      <th>fare_amount</th>\n",
       "      <th>pickup_datetime</th>\n",
       "      <th>pickup_longitude</th>\n",
       "      <th>pickup_latitude</th>\n",
       "      <th>dropoff_longitude</th>\n",
       "      <th>dropoff_latitude</th>\n",
       "      <th>passenger_count</th>\n",
       "      <th>hour_of_day</th>\n",
       "      <th>week</th>\n",
       "      <th>...</th>\n",
       "      <th>weekday</th>\n",
       "      <th>quarter</th>\n",
       "      <th>day_of_month</th>\n",
       "      <th>distance_miles</th>\n",
       "      <th>pickup_distance_to_jfk</th>\n",
       "      <th>dropoff_distance_to_jfk</th>\n",
       "      <th>pickup_distance_to_ewr</th>\n",
       "      <th>dropoff_distance_to_ewr</th>\n",
       "      <th>pickup_distance_to_lgr</th>\n",
       "      <th>dropoff_distance_to_lgr</th>\n",
       "    </tr>\n",
       "  </thead>\n",
       "  <tbody>\n",
       "    <tr>\n",
       "      <th>0</th>\n",
       "      <td>2009-06-15 17:26:21.0000001</td>\n",
       "      <td>4.5</td>\n",
       "      <td>2009-06-15 17:26:21</td>\n",
       "      <td>-73.844311</td>\n",
       "      <td>40.721319</td>\n",
       "      <td>-73.841610</td>\n",
       "      <td>40.712278</td>\n",
       "      <td>1</td>\n",
       "      <td>17</td>\n",
       "      <td>25</td>\n",
       "      <td>...</td>\n",
       "      <td>0</td>\n",
       "      <td>2</td>\n",
       "      <td>15</td>\n",
       "      <td>0.640487</td>\n",
       "      <td>6.527098</td>\n",
       "      <td>5.926672</td>\n",
       "      <td>17.433727</td>\n",
       "      <td>17.508086</td>\n",
       "      <td>4.142790</td>\n",
       "      <td>4.776039</td>\n",
       "    </tr>\n",
       "    <tr>\n",
       "      <th>1</th>\n",
       "      <td>2010-01-05 16:52:16.0000002</td>\n",
       "      <td>16.9</td>\n",
       "      <td>2010-01-05 16:52:16</td>\n",
       "      <td>-74.016048</td>\n",
       "      <td>40.711303</td>\n",
       "      <td>-73.979268</td>\n",
       "      <td>40.782004</td>\n",
       "      <td>1</td>\n",
       "      <td>16</td>\n",
       "      <td>1</td>\n",
       "      <td>...</td>\n",
       "      <td>1</td>\n",
       "      <td>1</td>\n",
       "      <td>5</td>\n",
       "      <td>5.250670</td>\n",
       "      <td>13.373879</td>\n",
       "      <td>14.335733</td>\n",
       "      <td>8.435586</td>\n",
       "      <td>12.054959</td>\n",
       "      <td>8.708241</td>\n",
       "      <td>5.518847</td>\n",
       "    </tr>\n",
       "    <tr>\n",
       "      <th>2</th>\n",
       "      <td>2011-08-18 00:35:00.00000049</td>\n",
       "      <td>5.7</td>\n",
       "      <td>2011-08-18 00:35:00</td>\n",
       "      <td>-73.982738</td>\n",
       "      <td>40.761270</td>\n",
       "      <td>-73.991242</td>\n",
       "      <td>40.750562</td>\n",
       "      <td>2</td>\n",
       "      <td>0</td>\n",
       "      <td>33</td>\n",
       "      <td>...</td>\n",
       "      <td>3</td>\n",
       "      <td>3</td>\n",
       "      <td>18</td>\n",
       "      <td>0.863411</td>\n",
       "      <td>13.550258</td>\n",
       "      <td>13.478114</td>\n",
       "      <td>11.198778</td>\n",
       "      <td>10.482997</td>\n",
       "      <td>5.791580</td>\n",
       "      <td>6.399678</td>\n",
       "    </tr>\n",
       "    <tr>\n",
       "      <th>3</th>\n",
       "      <td>2012-04-21 04:30:42.0000001</td>\n",
       "      <td>7.7</td>\n",
       "      <td>2012-04-21 04:30:42</td>\n",
       "      <td>-73.987130</td>\n",
       "      <td>40.733143</td>\n",
       "      <td>-73.991567</td>\n",
       "      <td>40.758092</td>\n",
       "      <td>1</td>\n",
       "      <td>4</td>\n",
       "      <td>16</td>\n",
       "      <td>...</td>\n",
       "      <td>5</td>\n",
       "      <td>2</td>\n",
       "      <td>21</td>\n",
       "      <td>1.739386</td>\n",
       "      <td>12.657169</td>\n",
       "      <td>13.789559</td>\n",
       "      <td>10.266000</td>\n",
       "      <td>10.687245</td>\n",
       "      <td>6.648280</td>\n",
       "      <td>6.287901</td>\n",
       "    </tr>\n",
       "    <tr>\n",
       "      <th>4</th>\n",
       "      <td>2010-03-09 07:51:00.000000135</td>\n",
       "      <td>5.3</td>\n",
       "      <td>2010-03-09 07:51:00</td>\n",
       "      <td>-73.968095</td>\n",
       "      <td>40.768008</td>\n",
       "      <td>-73.956655</td>\n",
       "      <td>40.783762</td>\n",
       "      <td>1</td>\n",
       "      <td>7</td>\n",
       "      <td>10</td>\n",
       "      <td>...</td>\n",
       "      <td>1</td>\n",
       "      <td>1</td>\n",
       "      <td>9</td>\n",
       "      <td>1.242218</td>\n",
       "      <td>13.254398</td>\n",
       "      <td>13.577000</td>\n",
       "      <td>12.092157</td>\n",
       "      <td>13.133498</td>\n",
       "      <td>4.961705</td>\n",
       "      <td>4.350323</td>\n",
       "    </tr>\n",
       "  </tbody>\n",
       "</table>\n",
       "<p>5 rows × 24 columns</p>\n",
       "</div>"
      ],
      "text/plain": [
       "                             key  fare_amount     pickup_datetime  \\\n",
       "0    2009-06-15 17:26:21.0000001          4.5 2009-06-15 17:26:21   \n",
       "1    2010-01-05 16:52:16.0000002         16.9 2010-01-05 16:52:16   \n",
       "2   2011-08-18 00:35:00.00000049          5.7 2011-08-18 00:35:00   \n",
       "3    2012-04-21 04:30:42.0000001          7.7 2012-04-21 04:30:42   \n",
       "4  2010-03-09 07:51:00.000000135          5.3 2010-03-09 07:51:00   \n",
       "\n",
       "   pickup_longitude  pickup_latitude  dropoff_longitude  dropoff_latitude  \\\n",
       "0        -73.844311        40.721319         -73.841610         40.712278   \n",
       "1        -74.016048        40.711303         -73.979268         40.782004   \n",
       "2        -73.982738        40.761270         -73.991242         40.750562   \n",
       "3        -73.987130        40.733143         -73.991567         40.758092   \n",
       "4        -73.968095        40.768008         -73.956655         40.783762   \n",
       "\n",
       "   passenger_count  hour_of_day  week           ...             weekday  \\\n",
       "0                1           17    25           ...                   0   \n",
       "1                1           16     1           ...                   1   \n",
       "2                2            0    33           ...                   3   \n",
       "3                1            4    16           ...                   5   \n",
       "4                1            7    10           ...                   1   \n",
       "\n",
       "   quarter  day_of_month  distance_miles  pickup_distance_to_jfk  \\\n",
       "0        2            15        0.640487                6.527098   \n",
       "1        1             5        5.250670               13.373879   \n",
       "2        3            18        0.863411               13.550258   \n",
       "3        2            21        1.739386               12.657169   \n",
       "4        1             9        1.242218               13.254398   \n",
       "\n",
       "   dropoff_distance_to_jfk  pickup_distance_to_ewr  dropoff_distance_to_ewr  \\\n",
       "0                 5.926672               17.433727                17.508086   \n",
       "1                14.335733                8.435586                12.054959   \n",
       "2                13.478114               11.198778                10.482997   \n",
       "3                13.789559               10.266000                10.687245   \n",
       "4                13.577000               12.092157                13.133498   \n",
       "\n",
       "   pickup_distance_to_lgr  dropoff_distance_to_lgr  \n",
       "0                4.142790                 4.776039  \n",
       "1                8.708241                 5.518847  \n",
       "2                5.791580                 6.399678  \n",
       "3                6.648280                 6.287901  \n",
       "4                4.961705                 4.350323  \n",
       "\n",
       "[5 rows x 24 columns]"
      ]
     },
     "execution_count": 61,
     "metadata": {},
     "output_type": "execute_result"
    }
   ],
   "source": [
    "train.head()"
   ]
  },
  {
   "cell_type": "code",
   "execution_count": 62,
   "metadata": {
    "collapsed": true
   },
   "outputs": [],
   "source": [
    "train.to_csv('train_model.csv', index=False)"
   ]
  },
  {
   "cell_type": "code",
   "execution_count": 63,
   "metadata": {
    "collapsed": true
   },
   "outputs": [],
   "source": [
    "test.to_csv('test_model.csv', index=False)"
   ]
  },
  {
   "cell_type": "code",
   "execution_count": 64,
   "metadata": {
    "collapsed": true
   },
   "outputs": [],
   "source": [
    "# model\n",
    "# lightgbm\n",
    "# xgboost\n",
    "# random forest\n",
    "# catboost"
   ]
  },
  {
   "cell_type": "code",
   "execution_count": 2,
   "metadata": {
    "collapsed": true
   },
   "outputs": [],
   "source": [
    "import lightgbm as lgb\n",
    "from sklearn.model_selection import train_test_split\n",
    "from sklearn import metrics\n",
    "from sklearn.metrics import mean_squared_error\n",
    "from sklearn.model_selection import KFold\n",
    "import gc"
   ]
  },
  {
   "cell_type": "code",
   "execution_count": null,
   "metadata": {
    "collapsed": true
   },
   "outputs": [],
   "source": [
    "# two big dataset: sample 5,000,000"
   ]
  },
  {
   "cell_type": "code",
   "execution_count": 4,
   "metadata": {},
   "outputs": [],
   "source": [
    "train=pd.read_csv('train_model.csv')"
   ]
  },
  {
   "cell_type": "code",
   "execution_count": 5,
   "metadata": {
    "collapsed": true
   },
   "outputs": [],
   "source": [
    "#train= train.sample(n=5000000)"
   ]
  },
  {
   "cell_type": "code",
   "execution_count": 6,
   "metadata": {},
   "outputs": [
    {
     "data": {
      "text/plain": [
       "(5000000, 24)"
      ]
     },
     "execution_count": 6,
     "metadata": {},
     "output_type": "execute_result"
    }
   ],
   "source": [
    "train.shape"
   ]
  },
  {
   "cell_type": "code",
   "execution_count": 7,
   "metadata": {
    "collapsed": true
   },
   "outputs": [],
   "source": [
    "test=pd.read_csv('test_model.csv')"
   ]
  },
  {
   "cell_type": "code",
   "execution_count": 8,
   "metadata": {
    "collapsed": true
   },
   "outputs": [],
   "source": [
    "feats = [f for f in train.columns if f not in ['key','pickup_datetime','fare_amount']]"
   ]
  },
  {
   "cell_type": "code",
   "execution_count": 13,
   "metadata": {},
   "outputs": [
    {
     "name": "stdout",
     "output_type": "stream",
     "text": [
      "Training until validation scores don't improve for 125 rounds.\n",
      "[500]\ttrain's rmse: 3.67372\tvalid's rmse: 3.7396\n",
      "[1000]\ttrain's rmse: 3.57068\tvalid's rmse: 3.66357\n",
      "[1500]\ttrain's rmse: 3.5137\tvalid's rmse: 3.62972\n",
      "[2000]\ttrain's rmse: 3.4722\tvalid's rmse: 3.61049\n",
      "[2500]\ttrain's rmse: 3.43951\tvalid's rmse: 3.59745\n",
      "[3000]\ttrain's rmse: 3.41184\tvalid's rmse: 3.58789\n",
      "[3500]\ttrain's rmse: 3.38802\tvalid's rmse: 3.58103\n",
      "[4000]\ttrain's rmse: 3.36618\tvalid's rmse: 3.57597\n",
      "[4500]\ttrain's rmse: 3.34638\tvalid's rmse: 3.57188\n",
      "[5000]\ttrain's rmse: 3.32722\tvalid's rmse: 3.56797\n",
      "[5500]\ttrain's rmse: 3.3105\tvalid's rmse: 3.56538\n",
      "[6000]\ttrain's rmse: 3.29462\tvalid's rmse: 3.56322\n",
      "[6500]\ttrain's rmse: 3.27976\tvalid's rmse: 3.56179\n",
      "Early stopping, best iteration is:\n",
      "[6431]\ttrain's rmse: 3.28178\tvalid's rmse: 3.56173\n",
      "Fold  1 rmse : 3.561726\n",
      "Training until validation scores don't improve for 125 rounds.\n",
      "[500]\ttrain's rmse: 3.66582\tvalid's rmse: 3.7858\n",
      "[1000]\ttrain's rmse: 3.56642\tvalid's rmse: 3.71439\n",
      "[1500]\ttrain's rmse: 3.50757\tvalid's rmse: 3.67982\n",
      "[2000]\ttrain's rmse: 3.46663\tvalid's rmse: 3.66075\n",
      "[2500]\ttrain's rmse: 3.4356\tvalid's rmse: 3.6484\n",
      "[3000]\ttrain's rmse: 3.40822\tvalid's rmse: 3.63937\n",
      "[3500]\ttrain's rmse: 3.38477\tvalid's rmse: 3.63344\n",
      "[4000]\ttrain's rmse: 3.36418\tvalid's rmse: 3.62913\n",
      "[4500]\ttrain's rmse: 3.34621\tvalid's rmse: 3.6246\n",
      "[5000]\ttrain's rmse: 3.32927\tvalid's rmse: 3.62086\n",
      "[5500]\ttrain's rmse: 3.31354\tvalid's rmse: 3.61811\n",
      "[6000]\ttrain's rmse: 3.29936\tvalid's rmse: 3.61612\n",
      "Early stopping, best iteration is:\n",
      "[6278]\ttrain's rmse: 3.29159\tvalid's rmse: 3.61523\n",
      "Fold  2 rmse : 3.615227\n",
      "Training until validation scores don't improve for 125 rounds.\n",
      "[500]\ttrain's rmse: 3.68669\tvalid's rmse: 3.68323\n",
      "[1000]\ttrain's rmse: 3.58631\tvalid's rmse: 3.60712\n",
      "[1500]\ttrain's rmse: 3.5297\tvalid's rmse: 3.57269\n",
      "[2000]\ttrain's rmse: 3.48908\tvalid's rmse: 3.55241\n",
      "[2500]\ttrain's rmse: 3.45628\tvalid's rmse: 3.53952\n",
      "[3000]\ttrain's rmse: 3.42659\tvalid's rmse: 3.52813\n",
      "[3500]\ttrain's rmse: 3.4029\tvalid's rmse: 3.52242\n",
      "[4000]\ttrain's rmse: 3.38074\tvalid's rmse: 3.51604\n",
      "[4500]\ttrain's rmse: 3.36166\tvalid's rmse: 3.51215\n",
      "[5000]\ttrain's rmse: 3.34443\tvalid's rmse: 3.50846\n",
      "[5500]\ttrain's rmse: 3.32876\tvalid's rmse: 3.50597\n",
      "[6000]\ttrain's rmse: 3.31214\tvalid's rmse: 3.50332\n",
      "[6500]\ttrain's rmse: 3.2957\tvalid's rmse: 3.50066\n",
      "Early stopping, best iteration is:\n",
      "[6620]\ttrain's rmse: 3.29246\tvalid's rmse: 3.50021\n",
      "Fold  3 rmse : 3.500209\n",
      "Training until validation scores don't improve for 125 rounds.\n",
      "[500]\ttrain's rmse: 3.68879\tvalid's rmse: 3.67235\n",
      "[1000]\ttrain's rmse: 3.58745\tvalid's rmse: 3.60041\n",
      "[1500]\ttrain's rmse: 3.52932\tvalid's rmse: 3.56932\n",
      "[2000]\ttrain's rmse: 3.48573\tvalid's rmse: 3.54986\n",
      "[2500]\ttrain's rmse: 3.45253\tvalid's rmse: 3.5378\n",
      "[3000]\ttrain's rmse: 3.42394\tvalid's rmse: 3.53048\n",
      "[3500]\ttrain's rmse: 3.39907\tvalid's rmse: 3.52467\n",
      "[4000]\ttrain's rmse: 3.37761\tvalid's rmse: 3.52073\n",
      "[4500]\ttrain's rmse: 3.35803\tvalid's rmse: 3.51702\n",
      "[5000]\ttrain's rmse: 3.3402\tvalid's rmse: 3.51329\n",
      "[5500]\ttrain's rmse: 3.32485\tvalid's rmse: 3.51132\n",
      "[6000]\ttrain's rmse: 3.31011\tvalid's rmse: 3.50864\n",
      "[6500]\ttrain's rmse: 3.29579\tvalid's rmse: 3.50724\n",
      "[7000]\ttrain's rmse: 3.28196\tvalid's rmse: 3.50564\n",
      "Early stopping, best iteration is:\n",
      "[7160]\ttrain's rmse: 3.27776\tvalid's rmse: 3.50525\n",
      "Fold  4 rmse : 3.505248\n",
      "Training until validation scores don't improve for 125 rounds.\n",
      "[500]\ttrain's rmse: 3.68187\tvalid's rmse: 3.69773\n",
      "[1000]\ttrain's rmse: 3.58019\tvalid's rmse: 3.62348\n",
      "[1500]\ttrain's rmse: 3.52165\tvalid's rmse: 3.58738\n",
      "[2000]\ttrain's rmse: 3.48055\tvalid's rmse: 3.56725\n",
      "[2500]\ttrain's rmse: 3.449\tvalid's rmse: 3.55566\n",
      "[3000]\ttrain's rmse: 3.42031\tvalid's rmse: 3.5463\n",
      "[3500]\ttrain's rmse: 3.39548\tvalid's rmse: 3.53904\n",
      "[4000]\ttrain's rmse: 3.37351\tvalid's rmse: 3.53159\n",
      "[4500]\ttrain's rmse: 3.35393\tvalid's rmse: 3.52702\n",
      "[5000]\ttrain's rmse: 3.33695\tvalid's rmse: 3.52265\n",
      "[5500]\ttrain's rmse: 3.32203\tvalid's rmse: 3.51956\n",
      "[6000]\ttrain's rmse: 3.30605\tvalid's rmse: 3.51775\n",
      "[6500]\ttrain's rmse: 3.2908\tvalid's rmse: 3.51558\n",
      "[7000]\ttrain's rmse: 3.27691\tvalid's rmse: 3.51353\n",
      "[7500]\ttrain's rmse: 3.26337\tvalid's rmse: 3.51151\n",
      "[8000]\ttrain's rmse: 3.25099\tvalid's rmse: 3.5104\n",
      "[8500]\ttrain's rmse: 3.23879\tvalid's rmse: 3.50962\n",
      "[9000]\ttrain's rmse: 3.22704\tvalid's rmse: 3.50892\n",
      "Early stopping, best iteration is:\n",
      "[9365]\ttrain's rmse: 3.21875\tvalid's rmse: 3.50847\n",
      "Fold  5 rmse : 3.508468\n",
      "Full rmse 3.538455\n"
     ]
    }
   ],
   "source": [
    "folds = KFold(n_splits=5, shuffle=True, random_state=1001)\n",
    "# Create arrays and dataframes to store results\n",
    "oof_preds = np.zeros(train.shape[0])\n",
    "sub_preds = np.zeros(test.shape[0])\n",
    "feature_importance_df = pd.DataFrame()\n",
    "    \n",
    "for n_fold, (train_idx, valid_idx) in enumerate(folds.split(train[feats], train['fare_amount'])):\n",
    "    dtrain = lgb.Dataset(data=train[feats].iloc[train_idx], \n",
    "                         label=train['fare_amount'].iloc[train_idx],\n",
    "                         free_raw_data=False)\n",
    "    dvalid = lgb.Dataset(data=train[feats].iloc[valid_idx],\n",
    "                         label=train['fare_amount'].iloc[valid_idx],\n",
    "                         free_raw_data=False)\n",
    "    params = {'boosting_type': 'gbdt',\n",
    "              'objective': 'regression',\n",
    "              'metric':'rmse',\n",
    "              'learning_rate': 0.03,\n",
    "              'num_leaves': 30, \n",
    "              'max_depth': 7,  \n",
    "              'min_child_samples': 70,  \n",
    "              'max_bin': 300,  \n",
    "              'subsample': 1.0,  \n",
    "              'subsample_freq': 1,  \n",
    "              'colsample_bytree': 0.9,  \n",
    "              'min_split_gain': 0.5,\n",
    "              'min_child_weight': 4,\n",
    "              'reg_lambda':0.1,\n",
    "              'reg_alpha': 0.1,\n",
    "              'nthread': 8,\n",
    "              'verbose': -1,}\n",
    "    \n",
    "    clf = lgb.train(params, \n",
    "                    dtrain, \n",
    "                    valid_sets=[dtrain, dvalid], \n",
    "                    valid_names=['train','valid'],\n",
    "                    num_boost_round=10000,\n",
    "                    early_stopping_rounds=125,\n",
    "                    verbose_eval=500)\n",
    "\n",
    "    oof_preds[valid_idx] = clf.predict(train[feats].iloc[valid_idx])\n",
    "    sub_preds += clf.predict(test[feats]) / folds.n_splits\n",
    "\n",
    "    fold_importance_df = pd.DataFrame()\n",
    "    fold_importance_df[\"feature\"] = feats\n",
    "    fold_importance_df[\"importance\"] = clf.feature_importance(importance_type='gain')\n",
    "    fold_importance_df[\"fold\"] = n_fold + 1\n",
    "    feature_importance_df = pd.concat([feature_importance_df, fold_importance_df], axis=0)\n",
    "    print('Fold %2d rmse : %.6f' % (n_fold + 1,mean_squared_error(train['fare_amount'].iloc[valid_idx], oof_preds[valid_idx]) ** .5)) \n",
    "    del clf, dtrain, dvalid\n",
    "    gc.collect()\n",
    "\n",
    "print('Full rmse %.6f' % mean_squared_error(train['fare_amount'], oof_preds)**.5)\n",
    "# Write submission file and plot feature importance\n",
    "sub_df = test[['key']].copy()\n",
    "sub_df['fare_amount'] = sub_preds\n",
    "sub_df[['key', 'fare_amount']].to_csv('submission_lgb2.csv', index= False)"
   ]
  },
  {
   "cell_type": "code",
   "execution_count": 14,
   "metadata": {},
   "outputs": [
    {
     "data": {
      "image/png": "[encoded data removed]",
      "text/plain": [
       "<matplotlib.figure.Figure at 0x5162d4dd0>"
      ]
     },
     "metadata": {},
     "output_type": "display_data"
    }
   ],
   "source": [
    "cols = feature_importance_df[[\"feature\", \"importance\"]].groupby(\"feature\").mean().sort_values(by=\"importance\", ascending=False).index\n",
    "best_features = feature_importance_df.loc[feature_importance_df.feature.isin(cols)]\n",
    "plt.figure(figsize=(8, 10))\n",
    "sns.barplot(x=\"importance\", y=\"feature\", data=best_features.sort_values(by=\"importance\", ascending=False))\n",
    "plt.title('LightGBM Features (avg over folds)')\n",
    "plt.tight_layout\n",
    "plt.show()"
   ]
  },
  {
   "cell_type": "code",
   "execution_count": 15,
   "metadata": {
    "collapsed": true
   },
   "outputs": [],
   "source": [
    "# bayesian optimization"
   ]
  },
  {
   "cell_type": "code",
   "execution_count": 16,
   "metadata": {
    "collapsed": true
   },
   "outputs": [],
   "source": [
    "from bayes_opt import BayesianOptimization"
   ]
  },
  {
   "cell_type": "code",
   "execution_count": 17,
   "metadata": {
    "collapsed": true
   },
   "outputs": [],
   "source": [
    "feats = [f for f in train.columns if f not in ['key','pickup_datetime','fare_amount']]\n",
    "X=train[feats]\n",
    "y=train['fare_amount']"
   ]
  },
  {
   "cell_type": "code",
   "execution_count": 18,
   "metadata": {},
   "outputs": [
    {
     "name": "stderr",
     "output_type": "stream",
     "text": [
      "/Users/shuozhang/anaconda/lib/python2.7/site-packages/sklearn/utils/deprecation.py:52: DeprecationWarning: Class GaussianProcess is deprecated; GaussianProcess was deprecated in version 0.18 and will be removed in 0.20. Use the GaussianProcessRegressor instead.\n",
      "  warnings.warn(msg, category=DeprecationWarning)\n"
     ]
    },
    {
     "name": "stdout",
     "output_type": "stream",
     "text": [
      "\u001b[31mInitialization\u001b[0m\n",
      "\u001b[94m----------------------------------------------------------------------------------------------------------------------------------------------------------------------------------------------------------------------\u001b[0m\n",
      " Step |   Time |      Value |   colsample_bytree |   max_bin |   max_depth |   min_child_sample |   min_child_weight |   min_split_gain |   num_leaves |   reg_alpha |   reg_lambda |   subsample |   subsample_freq | \n",
      "[500]\tcv_agg's rmse: 3.7389 + 0.077189\n",
      "[1000]\tcv_agg's rmse: 3.6603 + 0.077709\n",
      "[1500]\tcv_agg's rmse: 3.62421 + 0.0780063\n",
      "[2000]\tcv_agg's rmse: 3.60173 + 0.0798864\n",
      "[2500]\tcv_agg's rmse: 3.58684 + 0.0790663\n",
      "[3000]\tcv_agg's rmse: 3.57732 + 0.0794719\n",
      "[3500]\tcv_agg's rmse: 3.57032 + 0.0797964\n",
      "[4000]\tcv_agg's rmse: 3.56562 + 0.0803206\n",
      "[4500]\tcv_agg's rmse: 3.56139 + 0.0803653\n",
      "[5000]\tcv_agg's rmse: 3.558 + 0.0807158\n",
      "[5500]\tcv_agg's rmse: 3.5551 + 0.0804389\n",
      "[6000]\tcv_agg's rmse: 3.55306 + 0.0803268\n",
      "[6500]\tcv_agg's rmse: 3.55124 + 0.0803134\n",
      "[7000]\tcv_agg's rmse: 3.54947 + 0.0805966\n",
      "[7500]\tcv_agg's rmse: 3.54811 + 0.0806124\n",
      "[8000]\tcv_agg's rmse: 3.54688 + 0.0810139\n",
      "[8500]\tcv_agg's rmse: 3.54555 + 0.0809847\n",
      "    1 | 239m44s | \u001b[35m   9.48186\u001b[0m | \u001b[32m            0.6416\u001b[0m | \u001b[32m 332.7679\u001b[0m | \u001b[32m     7.0947\u001b[0m | \u001b[32m           36.2003\u001b[0m | \u001b[32m            4.0567\u001b[0m | \u001b[32m          0.1421\u001b[0m | \u001b[32m     25.0384\u001b[0m | \u001b[32m     0.6913\u001b[0m | \u001b[32m      0.3254\u001b[0m | \u001b[32m     0.9525\u001b[0m | \u001b[32m          2.6974\u001b[0m | \n",
      "[500]\tcv_agg's rmse: 3.66499 + 0.0781868\n",
      "[1000]\tcv_agg's rmse: 3.6013 + 0.0789194\n",
      "[1500]\tcv_agg's rmse: 3.57554 + 0.0799082\n",
      "[2000]\tcv_agg's rmse: 3.56152 + 0.0802247\n",
      "[2500]\tcv_agg's rmse: 3.55282 + 0.0803058\n",
      "[3000]\tcv_agg's rmse: 3.54712 + 0.0809306\n",
      "[3500]\tcv_agg's rmse: 3.54283 + 0.0809975\n",
      "[4000]\tcv_agg's rmse: 3.54016 + 0.0810851\n",
      "[4500]\tcv_agg's rmse: 3.53821 + 0.0812989\n",
      "[5000]\tcv_agg's rmse: 3.53667 + 0.0813646\n",
      "[5500]\tcv_agg's rmse: 3.53568 + 0.081472\n",
      "[6000]\tcv_agg's rmse: 3.53479 + 0.0818058\n",
      "[6500]\tcv_agg's rmse: 3.53397 + 0.0822143\n",
      "[7000]\tcv_agg's rmse: 3.53367 + 0.0819851\n",
      "    2 | 221m55s |    9.47207 |             0.7358 |  495.1206 |      7.1701 |            90.5120 |            16.4563 |           0.4030 |      51.4093 |      0.6375 |       0.9101 |      0.9870 |           8.7798 | \n"
     ]
    },
    {
     "name": "stderr",
     "output_type": "stream",
     "text": [
      "/Users/shuozhang/anaconda/lib/python2.7/site-packages/sklearn/utils/deprecation.py:70: DeprecationWarning: Function l1_cross_distances is deprecated; l1_cross_distances was deprecated in version 0.18 and will be removed in 0.20.\n",
      "  warnings.warn(msg, category=DeprecationWarning)\n"
     ]
    },
    {
     "name": "stdout",
     "output_type": "stream",
     "text": [
      "\u001b[31mBayesian Optimization\u001b[0m\n",
      "\u001b[94m----------------------------------------------------------------------------------------------------------------------------------------------------------------------------------------------------------------------\u001b[0m\n",
      " Step |   Time |      Value |   colsample_bytree |   max_bin |   max_depth |   min_child_sample |   min_child_weight |   min_split_gain |   num_leaves |   reg_alpha |   reg_lambda |   subsample |   subsample_freq | \n",
      "[500]\tcv_agg's rmse: 3.70086 + 0.0766031\n",
      "[1000]\tcv_agg's rmse: 3.63561 + 0.0784866\n",
      "[1500]\tcv_agg's rmse: 3.60955 + 0.0781933\n",
      "[2000]\tcv_agg's rmse: 3.59603 + 0.0784326\n",
      "[2500]\tcv_agg's rmse: 3.58726 + 0.0777414\n",
      "[3000]\tcv_agg's rmse: 3.58339 + 0.0781642\n",
      "[3500]\tcv_agg's rmse: 3.58002 + 0.0783934\n",
      "[4000]\tcv_agg's rmse: 3.57766 + 0.0786655\n",
      "[4500]\tcv_agg's rmse: 3.57663 + 0.0781121\n",
      "[5000]\tcv_agg's rmse: 3.57576 + 0.0782674\n"
     ]
    },
    {
     "name": "stderr",
     "output_type": "stream",
     "text": [
      "/Users/shuozhang/anaconda/lib/python2.7/site-packages/sklearn/utils/deprecation.py:70: DeprecationWarning: Function l1_cross_distances is deprecated; l1_cross_distances was deprecated in version 0.18 and will be removed in 0.20.\n",
      "  warnings.warn(msg, category=DeprecationWarning)\n"
     ]
    },
    {
     "name": "stdout",
     "output_type": "stream",
     "text": [
      "    3 | 114m14s |    9.47593 |             0.7682 |  282.6712 |      6.5581 |            71.7125 |            13.5135 |           0.3629 |      34.8234 |      0.5900 |       0.5564 |      0.6666 |           2.1730 | \n",
      "[500]\tcv_agg's rmse: 3.64535 + 0.076292\n",
      "[1000]\tcv_agg's rmse: 3.59984 + 0.078433\n",
      "[1500]\tcv_agg's rmse: 3.5842 + 0.0784307\n",
      "[2000]\tcv_agg's rmse: 3.5773 + 0.0775631\n",
      "[2500]\tcv_agg's rmse: 3.57363 + 0.077713\n",
      "[3000]\tcv_agg's rmse: 3.57165 + 0.0775132\n"
     ]
    },
    {
     "name": "stderr",
     "output_type": "stream",
     "text": [
      "/Users/shuozhang/anaconda/lib/python2.7/site-packages/sklearn/utils/deprecation.py:70: DeprecationWarning: Function l1_cross_distances is deprecated; l1_cross_distances was deprecated in version 0.18 and will be removed in 0.20.\n",
      "  warnings.warn(msg, category=DeprecationWarning)\n"
     ]
    },
    {
     "name": "stdout",
     "output_type": "stream",
     "text": [
      "    4 | 74m08s |    9.46552 |             0.9974 |  302.4669 |     -0.6260 |            20.0605 |            16.3854 |           0.2825 |      57.3723 |      0.2619 |       0.0346 |      0.6781 |           6.8627 | \n",
      "[500]\tcv_agg's rmse: 3.61551 + 0.080196\n",
      "[1000]\tcv_agg's rmse: 3.58107 + 0.0798847\n",
      "[1500]\tcv_agg's rmse: 3.57029 + 0.0796853\n",
      "[2000]\tcv_agg's rmse: 3.56565 + 0.0795233\n",
      "[2500]\tcv_agg's rmse: 3.56266 + 0.07895\n"
     ]
    },
    {
     "name": "stderr",
     "output_type": "stream",
     "text": [
      "/Users/shuozhang/anaconda/lib/python2.7/site-packages/sklearn/utils/deprecation.py:70: DeprecationWarning: Function l1_cross_distances is deprecated; l1_cross_distances was deprecated in version 0.18 and will be removed in 0.20.\n",
      "  warnings.warn(msg, category=DeprecationWarning)\n"
     ]
    },
    {
     "name": "stdout",
     "output_type": "stream",
     "text": [
      "    5 | 72m16s |    9.46267 |             0.6534 |  289.7591 |      0.0118 |            82.2728 |             5.6131 |           0.2826 |      87.8061 |      0.5311 |       0.6326 |      0.6718 |           5.6886 | \n",
      "[500]\tcv_agg's rmse: 4.11906 + 0.0711536\n",
      "[1000]\tcv_agg's rmse: 4.03231 + 0.0728352\n",
      "[1500]\tcv_agg's rmse: 3.98635 + 0.0739083\n",
      "[2000]\tcv_agg's rmse: 3.95512 + 0.0746794\n",
      "[2500]\tcv_agg's rmse: 3.93223 + 0.075267\n",
      "[3000]\tcv_agg's rmse: 3.91398 + 0.0751384\n",
      "[3500]\tcv_agg's rmse: 3.89838 + 0.0749701\n",
      "[4000]\tcv_agg's rmse: 3.88486 + 0.0747855\n",
      "[4500]\tcv_agg's rmse: 3.87396 + 0.0754202\n",
      "[5000]\tcv_agg's rmse: 3.86428 + 0.0754576\n",
      "[5500]\tcv_agg's rmse: 3.85611 + 0.0755697\n",
      "[6000]\tcv_agg's rmse: 3.84874 + 0.0758069\n",
      "[6500]\tcv_agg's rmse: 3.84263 + 0.0758138\n",
      "[7000]\tcv_agg's rmse: 3.83711 + 0.0760047\n",
      "[7500]\tcv_agg's rmse: 3.83202 + 0.0761537\n",
      "[8000]\tcv_agg's rmse: 3.82725 + 0.0761413\n",
      "[8500]\tcv_agg's rmse: 3.82318 + 0.0760159\n",
      "[9000]\tcv_agg's rmse: 3.81952 + 0.0761586\n",
      "[9500]\tcv_agg's rmse: 3.81623 + 0.0762039\n",
      "[10000]\tcv_agg's rmse: 3.81299 + 0.076187\n"
     ]
    },
    {
     "name": "stderr",
     "output_type": "stream",
     "text": [
      "/Users/shuozhang/anaconda/lib/python2.7/site-packages/sklearn/utils/deprecation.py:70: DeprecationWarning: Function l1_cross_distances is deprecated; l1_cross_distances was deprecated in version 0.18 and will be removed in 0.20.\n",
      "  warnings.warn(msg, category=DeprecationWarning)\n"
     ]
    },
    {
     "name": "stdout",
     "output_type": "stream",
     "text": [
      "    6 | 445m39s | \u001b[35m   9.54276\u001b[0m | \u001b[32m            0.9535\u001b[0m | \u001b[32m 257.4187\u001b[0m | \u001b[32m     1.6330\u001b[0m | \u001b[32m           84.5715\u001b[0m | \u001b[32m            3.9816\u001b[0m | \u001b[32m          0.3573\u001b[0m | \u001b[32m     74.2168\u001b[0m | \u001b[32m     0.2484\u001b[0m | \u001b[32m      0.7279\u001b[0m | \u001b[32m     0.7844\u001b[0m | \u001b[32m          5.1936\u001b[0m | \n",
      "[500]\tcv_agg's rmse: 3.71564 + 0.0783027\n",
      "[1000]\tcv_agg's rmse: 3.64483 + 0.0784131\n",
      "[1500]\tcv_agg's rmse: 3.61261 + 0.0783215\n",
      "[2000]\tcv_agg's rmse: 3.59465 + 0.079101\n",
      "[2500]\tcv_agg's rmse: 3.58395 + 0.07913\n",
      "[3000]\tcv_agg's rmse: 3.57661 + 0.0786683\n",
      "[3500]\tcv_agg's rmse: 3.57183 + 0.0787636\n",
      "[4000]\tcv_agg's rmse: 3.56856 + 0.0792882\n",
      "[4500]\tcv_agg's rmse: 3.56578 + 0.0793105\n",
      "[5000]\tcv_agg's rmse: 3.56374 + 0.0793468\n",
      "[5500]\tcv_agg's rmse: 3.56231 + 0.0793637\n",
      "[6000]\tcv_agg's rmse: 3.56126 + 0.0796651\n",
      "[6500]\tcv_agg's rmse: 3.56025 + 0.0798529\n",
      "[7000]\tcv_agg's rmse: 3.55956 + 0.0799768\n",
      "[7500]\tcv_agg's rmse: 3.55883 + 0.0800363\n"
     ]
    },
    {
     "name": "stderr",
     "output_type": "stream",
     "text": [
      "/Users/shuozhang/anaconda/lib/python2.7/site-packages/sklearn/utils/deprecation.py:70: DeprecationWarning: Function l1_cross_distances is deprecated; l1_cross_distances was deprecated in version 0.18 and will be removed in 0.20.\n",
      "  warnings.warn(msg, category=DeprecationWarning)\n"
     ]
    },
    {
     "name": "stdout",
     "output_type": "stream",
     "text": [
      "    7 | 174m17s |    9.47672 |             0.9792 |  310.4915 |      7.8375 |            72.5143 |             4.6034 |           0.3077 |      28.4799 |      0.7121 |       0.4914 |      0.8541 |           7.1275 | \n",
      "[500]\tcv_agg's rmse: 4.12866 + 0.0737205\n",
      "[1000]\tcv_agg's rmse: 4.04125 + 0.072624\n",
      "[1500]\tcv_agg's rmse: 3.99459 + 0.0726977\n",
      "[2000]\tcv_agg's rmse: 3.96211 + 0.0722755\n",
      "[2500]\tcv_agg's rmse: 3.938 + 0.0726952\n",
      "[3000]\tcv_agg's rmse: 3.91873 + 0.0732676\n",
      "[3500]\tcv_agg's rmse: 3.90291 + 0.0736872\n",
      "[4000]\tcv_agg's rmse: 3.88958 + 0.0739436\n",
      "[4500]\tcv_agg's rmse: 3.87841 + 0.0742598\n",
      "[5000]\tcv_agg's rmse: 3.86856 + 0.0745951\n",
      "[5500]\tcv_agg's rmse: 3.86031 + 0.0747386\n",
      "[6000]\tcv_agg's rmse: 3.85314 + 0.0749135\n",
      "[6500]\tcv_agg's rmse: 3.84688 + 0.0749186\n",
      "[7000]\tcv_agg's rmse: 3.8415 + 0.0751443\n",
      "[7500]\tcv_agg's rmse: 3.83657 + 0.0754325\n",
      "[8000]\tcv_agg's rmse: 3.83229 + 0.0753873\n",
      "[8500]\tcv_agg's rmse: 3.82843 + 0.0755746\n",
      "[9000]\tcv_agg's rmse: 3.82468 + 0.075794\n",
      "[9500]\tcv_agg's rmse: 3.82148 + 0.076247\n",
      "[10000]\tcv_agg's rmse: 3.8183 + 0.0763523\n"
     ]
    },
    {
     "name": "stderr",
     "output_type": "stream",
     "text": [
      "/Users/shuozhang/anaconda/lib/python2.7/site-packages/sklearn/utils/deprecation.py:70: DeprecationWarning: Function l1_cross_distances is deprecated; l1_cross_distances was deprecated in version 0.18 and will be removed in 0.20.\n",
      "  warnings.warn(msg, category=DeprecationWarning)\n"
     ]
    },
    {
     "name": "stdout",
     "output_type": "stream",
     "text": [
      "    8 | 190m51s | \u001b[35m   9.54277\u001b[0m | \u001b[32m            0.6385\u001b[0m | \u001b[32m 197.9333\u001b[0m | \u001b[32m     2.0102\u001b[0m | \u001b[32m           25.7341\u001b[0m | \u001b[32m           10.9237\u001b[0m | \u001b[32m          0.7046\u001b[0m | \u001b[32m     63.8524\u001b[0m | \u001b[32m     0.8471\u001b[0m | \u001b[32m      0.9800\u001b[0m | \u001b[32m     0.7159\u001b[0m | \u001b[32m          9.6980\u001b[0m | \n",
      "[500]\tcv_agg's rmse: 3.94372 + 0.0745681\n",
      "[1000]\tcv_agg's rmse: 3.85085 + 0.0741413\n",
      "[1500]\tcv_agg's rmse: 3.80763 + 0.0749693\n",
      "[2000]\tcv_agg's rmse: 3.77958 + 0.075038\n",
      "[2500]\tcv_agg's rmse: 3.75916 + 0.0751144\n",
      "[3000]\tcv_agg's rmse: 3.74388 + 0.0758279\n",
      "[3500]\tcv_agg's rmse: 3.73176 + 0.076083\n",
      "[4000]\tcv_agg's rmse: 3.72183 + 0.0764429\n",
      "[4500]\tcv_agg's rmse: 3.7141 + 0.0762922\n",
      "[5000]\tcv_agg's rmse: 3.70779 + 0.0763317\n",
      "[5500]\tcv_agg's rmse: 3.70263 + 0.076224\n",
      "[6000]\tcv_agg's rmse: 3.69813 + 0.0765907\n",
      "[6500]\tcv_agg's rmse: 3.69411 + 0.0767339\n",
      "[7000]\tcv_agg's rmse: 3.69048 + 0.0767103\n",
      "[7500]\tcv_agg's rmse: 3.68746 + 0.0765894\n",
      "[8000]\tcv_agg's rmse: 3.68489 + 0.0766262\n",
      "[8500]\tcv_agg's rmse: 3.68247 + 0.0768367\n",
      "[9000]\tcv_agg's rmse: 3.68021 + 0.076788\n",
      "[9500]\tcv_agg's rmse: 3.67821 + 0.076913\n",
      "[10000]\tcv_agg's rmse: 3.67642 + 0.0769322\n"
     ]
    },
    {
     "name": "stderr",
     "output_type": "stream",
     "text": [
      "/Users/shuozhang/anaconda/lib/python2.7/site-packages/sklearn/utils/deprecation.py:70: DeprecationWarning: Function l1_cross_distances is deprecated; l1_cross_distances was deprecated in version 0.18 and will be removed in 0.20.\n",
      "  warnings.warn(msg, category=DeprecationWarning)\n"
     ]
    },
    {
     "name": "stdout",
     "output_type": "stream",
     "text": [
      "    9 | 225m43s |    9.50967 |             0.8049 |  334.5730 |      2.8740 |            39.7750 |            14.7969 |           0.2904 |      33.2033 |      0.5609 |       0.9679 |      0.7745 |           2.8845 | \n",
      "[500]\tcv_agg's rmse: 3.70468 + 0.0781848\n",
      "[1000]\tcv_agg's rmse: 3.63384 + 0.0779759\n",
      "[1500]\tcv_agg's rmse: 3.60173 + 0.0795722\n",
      "[2000]\tcv_agg's rmse: 3.58394 + 0.0797885\n",
      "[2500]\tcv_agg's rmse: 3.57368 + 0.0801375\n",
      "[3000]\tcv_agg's rmse: 3.56667 + 0.0799052\n",
      "[3500]\tcv_agg's rmse: 3.56166 + 0.0803563\n",
      "[4000]\tcv_agg's rmse: 3.55811 + 0.0798937\n",
      "[4500]\tcv_agg's rmse: 3.55526 + 0.079441\n",
      "[5000]\tcv_agg's rmse: 3.5536 + 0.078938\n",
      "[5500]\tcv_agg's rmse: 3.55177 + 0.0789698\n",
      "[6000]\tcv_agg's rmse: 3.55033 + 0.0789378\n",
      "[6500]\tcv_agg's rmse: 3.54912 + 0.0790856\n",
      "[7000]\tcv_agg's rmse: 3.54786 + 0.0794053\n",
      "[7500]\tcv_agg's rmse: 3.54678 + 0.0794196\n",
      "[8000]\tcv_agg's rmse: 3.54651 + 0.079485\n",
      "[8500]\tcv_agg's rmse: 3.54602 + 0.0794933\n"
     ]
    },
    {
     "name": "stderr",
     "output_type": "stream",
     "text": [
      "/Users/shuozhang/anaconda/lib/python2.7/site-packages/sklearn/utils/deprecation.py:70: DeprecationWarning: Function l1_cross_distances is deprecated; l1_cross_distances was deprecated in version 0.18 and will be removed in 0.20.\n",
      "  warnings.warn(msg, category=DeprecationWarning)\n"
     ]
    },
    {
     "name": "stdout",
     "output_type": "stream",
     "text": [
      "   10 | 175m47s |    9.47516 |             0.9249 |  396.0655 |     -0.8455 |            23.1236 |            17.3630 |           0.7214 |      28.7484 |      0.9768 |       0.6913 |      0.8895 |           6.4330 | \n"
     ]
    },
    {
     "ename": "AttributeError",
     "evalue": "'BayesianOptimization' object has no attribute 'points_to_csv'",
     "output_type": "error",
     "traceback": [
      "\u001b[0;31m---------------------------------------------------------------------------\u001b[0m",
      "\u001b[0;31mAttributeError\u001b[0m                            Traceback (most recent call last)",
      "\u001b[0;32m<ipython-input-18-6e36b39f0486>\u001b[0m in \u001b[0;36m<module>\u001b[0;34m()\u001b[0m\n\u001b[1;32m     40\u001b[0m     \u001b[0;32mreturn\u001b[0m \u001b[0mlgbBO\u001b[0m\u001b[0;34m.\u001b[0m\u001b[0mres\u001b[0m\u001b[0;34m[\u001b[0m\u001b[0;34m'max'\u001b[0m\u001b[0;34m]\u001b[0m\u001b[0;34m[\u001b[0m\u001b[0;34m'max_params'\u001b[0m\u001b[0;34m]\u001b[0m\u001b[0;34m\u001b[0m\u001b[0m\n\u001b[1;32m     41\u001b[0m \u001b[0;34m\u001b[0m\u001b[0m\n\u001b[0;32m---> 42\u001b[0;31m \u001b[0mopt_params\u001b[0m \u001b[0;34m=\u001b[0m \u001b[0mbayes_parameter_opt_lgb\u001b[0m\u001b[0;34m(\u001b[0m\u001b[0mX\u001b[0m\u001b[0;34m,\u001b[0m \u001b[0my\u001b[0m\u001b[0;34m,\u001b[0m \u001b[0minit_round\u001b[0m\u001b[0;34m=\u001b[0m\u001b[0;36m2\u001b[0m\u001b[0;34m,\u001b[0m \u001b[0mopt_round\u001b[0m\u001b[0;34m=\u001b[0m\u001b[0;36m8\u001b[0m\u001b[0;34m,\u001b[0m \u001b[0mn_folds\u001b[0m\u001b[0;34m=\u001b[0m\u001b[0;36m5\u001b[0m\u001b[0;34m,\u001b[0m \u001b[0mrandom_seed\u001b[0m\u001b[0;34m=\u001b[0m\u001b[0;36m6\u001b[0m\u001b[0;34m,\u001b[0m \u001b[0mn_estimators\u001b[0m\u001b[0;34m=\u001b[0m\u001b[0;36m10000\u001b[0m\u001b[0;34m,\u001b[0m \u001b[0mlearning_rate\u001b[0m\u001b[0;34m=\u001b[0m\u001b[0;36m0.03\u001b[0m\u001b[0;34m,\u001b[0m\u001b[0moutput_process\u001b[0m\u001b[0;34m=\u001b[0m\u001b[0mTrue\u001b[0m\u001b[0;34m)\u001b[0m\u001b[0;34m\u001b[0m\u001b[0m\n\u001b[0m",
      "\u001b[0;32m<ipython-input-18-6e36b39f0486>\u001b[0m in \u001b[0;36mbayes_parameter_opt_lgb\u001b[0;34m(X, y, init_round, opt_round, n_folds, random_seed, n_estimators, learning_rate, output_process)\u001b[0m\n\u001b[1;32m     35\u001b[0m \u001b[0;34m\u001b[0m\u001b[0m\n\u001b[1;32m     36\u001b[0m     \u001b[0;31m# output optimization process\u001b[0m\u001b[0;34m\u001b[0m\u001b[0;34m\u001b[0m\u001b[0m\n\u001b[0;32m---> 37\u001b[0;31m     \u001b[0;32mif\u001b[0m \u001b[0moutput_process\u001b[0m\u001b[0;34m==\u001b[0m\u001b[0mTrue\u001b[0m\u001b[0;34m:\u001b[0m \u001b[0mlgbBO\u001b[0m\u001b[0;34m.\u001b[0m\u001b[0mpoints_to_csv\u001b[0m\u001b[0;34m(\u001b[0m\u001b[0;34m\"bayes_opt_result.csv\"\u001b[0m\u001b[0;34m)\u001b[0m\u001b[0;34m\u001b[0m\u001b[0m\n\u001b[0m\u001b[1;32m     38\u001b[0m \u001b[0;34m\u001b[0m\u001b[0m\n\u001b[1;32m     39\u001b[0m     \u001b[0;31m# return best parameters\u001b[0m\u001b[0;34m\u001b[0m\u001b[0;34m\u001b[0m\u001b[0m\n",
      "\u001b[0;31mAttributeError\u001b[0m: 'BayesianOptimization' object has no attribute 'points_to_csv'"
     ]
    }
   ],
   "source": [
    "def bayes_parameter_opt_lgb(X, y, init_round=2, opt_round=8, n_folds=5, random_seed=6, n_estimators=10000, learning_rate=0.03, output_process=True):\n",
    "    # prepare data\n",
    "    train_data = lgb.Dataset(data=X, label=y,free_raw_data=False)\n",
    "    # parameters\n",
    "    def lgb_eval(num_leaves, colsample_bytree, subsample, max_depth, reg_lambda, reg_alpha, min_split_gain, min_child_weight, \n",
    "                min_child_sample, max_bin, subsample_freq):\n",
    "        params = {'objective':'regression','boosting_type': 'gbdt','nthread': 4, 'verbose': -1,\\\n",
    "                  'num_boost_round': n_estimators, 'learning_rate':learning_rate, \\\n",
    "                  'early_stopping_round':125}\n",
    "        params['subsample_freq']=int(round(subsample_freq))\n",
    "        params['min_child_sample']=int(round(min_child_sample))\n",
    "        params['max_bin']=int(round(max_bin))\n",
    "        params[\"num_leaves\"] = int(round(num_leaves))\n",
    "        params['colsample_bytree'] = max(min(colsample_bytree, 1), 0)\n",
    "        params['subsample'] = max(min(subsample, 1), 0)\n",
    "        params['max_depth'] = int(round(max_depth))\n",
    "        params['reg_lambda'] = max(reg_lambda, 0)\n",
    "        params['reg_alpha'] = max(reg_alpha, 0)\n",
    "        params['min_split_gain'] = min_split_gain\n",
    "        params['min_child_weight'] = min_child_weight\n",
    "        cv_result = lgb.cv(params, train_data, nfold=n_folds, seed=random_seed, stratified=True, verbose_eval=500, metrics=['rmse'])\n",
    "        return max(cv_result['rmse-mean'])\n",
    "    # range \n",
    "    lgbBO = BayesianOptimization(lgb_eval, {'num_leaves': (20, 100),\n",
    "                                            'colsample_bytree': (0.6, 1.0),\n",
    "                                            'subsample': (0.6, 1.0),\n",
    "                                            'max_depth': (-1, 8),\n",
    "                                            'reg_lambda': (0, 1),\n",
    "                                            'reg_alpha': (0, 1),\n",
    "                                            'min_child_sample':(20,100),\n",
    "                                            'max_bin':(180,500),\n",
    "                                            'subsample_freq':(1,10),\n",
    "                                            'min_split_gain': (0.1, 0.8),\n",
    "                                            'min_child_weight': (3, 20)})\n",
    "    # optimize\n",
    "    lgbBO.maximize(init_points=init_round, n_iter=opt_round)\n",
    "    \n",
    "    #return lgbBO.res['max']['max_params']\n",
    "\n",
    "opt_params = bayes_parameter_opt_lgb(X, y, init_round=2, opt_round=8, n_folds=5, random_seed=6, n_estimators=10000, learning_rate=0.03,output_process=True)"
   ]
  },
  {
   "cell_type": "code",
   "execution_count": 22,
   "metadata": {},
   "outputs": [
    {
     "name": "stdout",
     "output_type": "stream",
     "text": [
      "Training until validation scores don't improve for 125 rounds.\n",
      "[500]\ttrain's rmse: 3.70469\tvalid's rmse: 3.72333\n",
      "[1000]\ttrain's rmse: 3.59408\tvalid's rmse: 3.64641\n",
      "[1500]\ttrain's rmse: 3.53108\tvalid's rmse: 3.61018\n",
      "[2000]\ttrain's rmse: 3.48629\tvalid's rmse: 3.58888\n",
      "[2500]\ttrain's rmse: 3.45111\tvalid's rmse: 3.57509\n",
      "[3000]\ttrain's rmse: 3.42156\tvalid's rmse: 3.56619\n",
      "[3500]\ttrain's rmse: 3.39559\tvalid's rmse: 3.55988\n",
      "[4000]\ttrain's rmse: 3.37225\tvalid's rmse: 3.55506\n",
      "[4500]\ttrain's rmse: 3.3516\tvalid's rmse: 3.55139\n",
      "[5000]\ttrain's rmse: 3.33264\tvalid's rmse: 3.54828\n",
      "[5500]\ttrain's rmse: 3.31405\tvalid's rmse: 3.54517\n",
      "[6000]\ttrain's rmse: 3.29739\tvalid's rmse: 3.54332\n",
      "[6500]\ttrain's rmse: 3.28121\tvalid's rmse: 3.54136\n",
      "Early stopping, best iteration is:\n",
      "[6848]\ttrain's rmse: 3.27041\tvalid's rmse: 3.54051\n",
      "Fold  1 rmse : 3.540509\n",
      "Training until validation scores don't improve for 125 rounds.\n",
      "[500]\ttrain's rmse: 3.67881\tvalid's rmse: 3.85635\n",
      "[1000]\ttrain's rmse: 3.57265\tvalid's rmse: 3.77658\n",
      "[1500]\ttrain's rmse: 3.51325\tvalid's rmse: 3.74298\n",
      "[2000]\ttrain's rmse: 3.46928\tvalid's rmse: 3.72161\n",
      "[2500]\ttrain's rmse: 3.4335\tvalid's rmse: 3.70677\n",
      "[3000]\ttrain's rmse: 3.40558\tvalid's rmse: 3.6972\n",
      "[3500]\ttrain's rmse: 3.38116\tvalid's rmse: 3.69144\n",
      "[4000]\ttrain's rmse: 3.35936\tvalid's rmse: 3.68646\n",
      "[4500]\ttrain's rmse: 3.34004\tvalid's rmse: 3.68303\n",
      "[5000]\ttrain's rmse: 3.32151\tvalid's rmse: 3.67997\n",
      "[5500]\ttrain's rmse: 3.30371\tvalid's rmse: 3.67695\n",
      "[6000]\ttrain's rmse: 3.28874\tvalid's rmse: 3.67459\n",
      "[6500]\ttrain's rmse: 3.27394\tvalid's rmse: 3.67268\n",
      "[7000]\ttrain's rmse: 3.2598\tvalid's rmse: 3.67156\n",
      "[7500]\ttrain's rmse: 3.24688\tvalid's rmse: 3.67031\n",
      "[8000]\ttrain's rmse: 3.2337\tvalid's rmse: 3.66894\n",
      "[8500]\ttrain's rmse: 3.22122\tvalid's rmse: 3.66757\n",
      "[9000]\ttrain's rmse: 3.20899\tvalid's rmse: 3.66673\n",
      "[9500]\ttrain's rmse: 3.19788\tvalid's rmse: 3.66609\n",
      "Early stopping, best iteration is:\n",
      "[9493]\ttrain's rmse: 3.19803\tvalid's rmse: 3.66604\n",
      "Fold  2 rmse : 3.666044\n",
      "Training until validation scores don't improve for 125 rounds.\n",
      "[500]\ttrain's rmse: 3.71577\tvalid's rmse: 3.68813\n",
      "[1000]\ttrain's rmse: 3.60294\tvalid's rmse: 3.61029\n",
      "[1500]\ttrain's rmse: 3.5384\tvalid's rmse: 3.5744\n",
      "[2000]\ttrain's rmse: 3.49276\tvalid's rmse: 3.55449\n",
      "[2500]\ttrain's rmse: 3.45574\tvalid's rmse: 3.5408\n",
      "[3000]\ttrain's rmse: 3.42503\tvalid's rmse: 3.53226\n",
      "[3500]\ttrain's rmse: 3.39851\tvalid's rmse: 3.52718\n",
      "[4000]\ttrain's rmse: 3.37501\tvalid's rmse: 3.52223\n",
      "[4500]\ttrain's rmse: 3.35437\tvalid's rmse: 3.51945\n",
      "[5000]\ttrain's rmse: 3.3355\tvalid's rmse: 3.51668\n",
      "[5500]\ttrain's rmse: 3.31751\tvalid's rmse: 3.51448\n",
      "[6000]\ttrain's rmse: 3.30063\tvalid's rmse: 3.51305\n",
      "[6500]\ttrain's rmse: 3.28402\tvalid's rmse: 3.51144\n",
      "[7000]\ttrain's rmse: 3.26935\tvalid's rmse: 3.51029\n",
      "Early stopping, best iteration is:\n",
      "[7219]\ttrain's rmse: 3.26309\tvalid's rmse: 3.50977\n",
      "Fold  3 rmse : 3.509773\n",
      "Training until validation scores don't improve for 125 rounds.\n",
      "[500]\ttrain's rmse: 3.71248\tvalid's rmse: 3.71824\n",
      "[1000]\ttrain's rmse: 3.60132\tvalid's rmse: 3.63185\n",
      "[1500]\ttrain's rmse: 3.53917\tvalid's rmse: 3.59284\n",
      "[2000]\ttrain's rmse: 3.49247\tvalid's rmse: 3.56976\n",
      "[2500]\ttrain's rmse: 3.45615\tvalid's rmse: 3.55556\n",
      "[3000]\ttrain's rmse: 3.42557\tvalid's rmse: 3.54571\n",
      "[3500]\ttrain's rmse: 3.3991\tvalid's rmse: 3.53907\n",
      "[4000]\ttrain's rmse: 3.37551\tvalid's rmse: 3.53299\n",
      "[4500]\ttrain's rmse: 3.35445\tvalid's rmse: 3.52886\n",
      "[5000]\ttrain's rmse: 3.33471\tvalid's rmse: 3.52487\n",
      "[5500]\ttrain's rmse: 3.31767\tvalid's rmse: 3.52176\n",
      "[6000]\ttrain's rmse: 3.30139\tvalid's rmse: 3.51955\n",
      "[6500]\ttrain's rmse: 3.28525\tvalid's rmse: 3.51733\n",
      "[7000]\ttrain's rmse: 3.27042\tvalid's rmse: 3.51502\n",
      "[7500]\ttrain's rmse: 3.25622\tvalid's rmse: 3.51346\n",
      "[8000]\ttrain's rmse: 3.24324\tvalid's rmse: 3.51212\n",
      "[8500]\ttrain's rmse: 3.23023\tvalid's rmse: 3.5111\n",
      "[9000]\ttrain's rmse: 3.21788\tvalid's rmse: 3.51035\n",
      "Early stopping, best iteration is:\n",
      "[8950]\ttrain's rmse: 3.21914\tvalid's rmse: 3.51016\n",
      "Fold  4 rmse : 3.510164\n",
      "Training until validation scores don't improve for 125 rounds.\n",
      "[500]\ttrain's rmse: 3.71166\tvalid's rmse: 3.70082\n",
      "[1000]\ttrain's rmse: 3.60438\tvalid's rmse: 3.62015\n",
      "[1500]\ttrain's rmse: 3.54484\tvalid's rmse: 3.58172\n",
      "[2000]\ttrain's rmse: 3.49903\tvalid's rmse: 3.55849\n",
      "[2500]\ttrain's rmse: 3.46344\tvalid's rmse: 3.54343\n",
      "[3000]\ttrain's rmse: 3.43386\tvalid's rmse: 3.5335\n",
      "[3500]\ttrain's rmse: 3.40807\tvalid's rmse: 3.52494\n",
      "[4000]\ttrain's rmse: 3.38587\tvalid's rmse: 3.51925\n",
      "[4500]\ttrain's rmse: 3.36517\tvalid's rmse: 3.51359\n",
      "[5000]\ttrain's rmse: 3.34648\tvalid's rmse: 3.50986\n",
      "[5500]\ttrain's rmse: 3.32902\tvalid's rmse: 3.50676\n",
      "[6000]\ttrain's rmse: 3.31151\tvalid's rmse: 3.50436\n",
      "[6500]\ttrain's rmse: 3.29683\tvalid's rmse: 3.50256\n",
      "[7000]\ttrain's rmse: 3.28273\tvalid's rmse: 3.50069\n",
      "[7500]\ttrain's rmse: 3.26868\tvalid's rmse: 3.49836\n",
      "[8000]\ttrain's rmse: 3.25563\tvalid's rmse: 3.4972\n",
      "[8500]\ttrain's rmse: 3.24273\tvalid's rmse: 3.49602\n",
      "[9000]\ttrain's rmse: 3.22987\tvalid's rmse: 3.49492\n",
      "[9500]\ttrain's rmse: 3.21736\tvalid's rmse: 3.49337\n",
      "[10000]\ttrain's rmse: 3.20644\tvalid's rmse: 3.49209\n",
      "Fold  5 rmse : 3.492090\n",
      "Full rmse 3.544278\n"
     ]
    }
   ],
   "source": [
    "folds = KFold(n_splits=5, shuffle=True, random_state=2001)\n",
    "# Create arrays and dataframes to store results\n",
    "oof_preds = np.zeros(train.shape[0])\n",
    "sub_preds = np.zeros(test.shape[0])\n",
    "feature_importance_df = pd.DataFrame()\n",
    "    \n",
    "for n_fold, (train_idx, valid_idx) in enumerate(folds.split(train[feats], train['fare_amount'])):\n",
    "    dtrain = lgb.Dataset(data=train[feats].iloc[train_idx], \n",
    "                         label=train['fare_amount'].iloc[train_idx],\n",
    "                         free_raw_data=False)\n",
    "    dvalid = lgb.Dataset(data=train[feats].iloc[valid_idx],\n",
    "                         label=train['fare_amount'].iloc[valid_idx],\n",
    "                         free_raw_data=False)\n",
    "    params = {'boosting_type': 'gbdt',\n",
    "              'objective': 'regression',\n",
    "              'metric':'rmse',\n",
    "              'learning_rate': 0.03,\n",
    "              'num_leaves': 25, \n",
    "              'max_depth': 7,  \n",
    "              'min_child_samples': 36,  \n",
    "              'max_bin': 333,  \n",
    "              'subsample': 0.9525,  \n",
    "              'subsample_freq': 3,  \n",
    "              'colsample_bytree': 0.6416,  \n",
    "              'min_split_gain': 0.1421,\n",
    "              'min_child_weight': 4.0567,\n",
    "              'reg_lambda':0.3254,\n",
    "              'reg_alpha': 0.6913,\n",
    "              'nthread': 8,\n",
    "              'verbose': -1,}\n",
    "    \n",
    "    clf = lgb.train(params, \n",
    "                    dtrain, \n",
    "                    valid_sets=[dtrain, dvalid], \n",
    "                    valid_names=['train','valid'],\n",
    "                    num_boost_round=10000,\n",
    "                    early_stopping_rounds=125,\n",
    "                    verbose_eval=500)\n",
    "\n",
    "    oof_preds[valid_idx] = clf.predict(train[feats].iloc[valid_idx])\n",
    "    sub_preds += clf.predict(test[feats]) / folds.n_splits\n",
    "\n",
    "    fold_importance_df = pd.DataFrame()\n",
    "    fold_importance_df[\"feature\"] = feats\n",
    "    fold_importance_df[\"importance\"] = clf.feature_importance(importance_type='gain')\n",
    "    fold_importance_df[\"fold\"] = n_fold + 1\n",
    "    feature_importance_df = pd.concat([feature_importance_df, fold_importance_df], axis=0)\n",
    "    print('Fold %2d rmse : %.6f' % (n_fold + 1,mean_squared_error(train['fare_amount'].iloc[valid_idx], oof_preds[valid_idx]) ** .5)) \n",
    "    del clf, dtrain, dvalid\n",
    "    gc.collect()\n",
    "\n",
    "print('Full rmse %.6f' % mean_squared_error(train['fare_amount'], oof_preds)**.5)\n",
    "# Write submission file and plot feature importance\n",
    "sub_df = test[['key']].copy()\n",
    "sub_df['fare_amount'] = sub_preds\n",
    "sub_df[['key', 'fare_amount']].to_csv('submission_lgb_bayesian.csv', index= False)"
   ]
  },
  {
   "cell_type": "code",
   "execution_count": null,
   "metadata": {
    "collapsed": true
   },
   "outputs": [],
   "source": [
    "# since distance is very important, we need to add more distance realted features\n",
    "# also some time feature contribute too little, we will consider to remove them from features\n",
    "# anything else: some numeric feature to categorical feature"
   ]
  }
 ],
 "metadata": {
  "kernelspec": {
   "display_name": "Python 2",
   "language": "python",
   "name": "python2"
  },
  "language_info": {
   "codemirror_mode": {
    "name": "ipython",
    "version": 2
   },
   "file_extension": ".py",
   "mimetype": "text/x-python",
   "name": "python",
   "nbconvert_exporter": "python",
   "pygments_lexer": "ipython2",
   "version": "2.7.15"
  }
 },
 "nbformat": 4,
 "nbformat_minor": 2
}
