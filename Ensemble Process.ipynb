{
 "cells": [
  {
   "cell_type": "code",
   "execution_count": null,
   "metadata": {},
   "outputs": [],
   "source": [
    "# Author: Chongzheng Zhao\n",
    "# Kaggle Competition - New York City Taxi Fare Prediction\n",
    "# FINAL BEAT 1454 TEAMS!\n",
    "# We team NYCTAXI located at 30 out of 1484 teams, Top 2%!\n",
    "# Final Score 2.86770\n",
    "# Competition Official Website: https://www.kaggle.com/c/new-york-city-taxi-fare-prediction\n",
    "# To see the leaderboard(competition result): https://www.kaggle.com/c/new-york-city-taxi-fare-prediction/leaderboard\n",
    "# Welcome to my Github profile: https://github.com/ChongzhengZhao/\n",
    "# Welcome to my Kaggle Profile: https://www.kaggle.com/chongzhengzhao\n",
    "# Welcome to my Linkedin Profile: https://www.linkedin.com/in/chongzhengzhao/\n",
    "# Last updated: 30/11/2018"
   ]
  },
  {
   "cell_type": "code",
   "execution_count": null,
   "metadata": {},
   "outputs": [],
   "source": [
    "import numpy as np\n",
    "import pandas as pd\n",
    "preds=[]\n",
    "df1 = pd.read_csv('df1_submission_2.90768.csv')\n",
    "preds.append(np.array(df1.fare_amount))\n",
    "df2 = pd.read_csv('df2_submission_2.90259_merged.csv')\n",
    "preds.append(np.array(df2.fare_amount))\n",
    "df3 = pd.read_csv('df3_submission_2.95485.csv')\n",
    "preds.append(np.array(df3.fare_amount))\n",
    "df4 = pd.read_csv('df5_submission_2.95486.csv')\n",
    "preds.append(np.array(df4.fare_amount))"
   ]
  },
  {
   "cell_type": "code",
   "execution_count": null,
   "metadata": {},
   "outputs": [],
   "source": [
    "#average ensemble"
   ]
  },
  {
   "cell_type": "code",
   "execution_count": null,
   "metadata": {},
   "outputs": [],
   "source": [
    "y_preds = np.mean(np.vstack([preds]),axis=0)"
   ]
  },
  {
   "cell_type": "code",
   "execution_count": null,
   "metadata": {},
   "outputs": [],
   "source": [
    "test = pd.read_csv(\"test.csv\")"
   ]
  },
  {
   "cell_type": "code",
   "execution_count": null,
   "metadata": {},
   "outputs": [],
   "source": [
    "sub_df = test[['key']].copy()\n",
    "sub_df['fare_amount'] = y_preds\n",
    "sub_df[['key', 'fare_amount']].to_csv('ensemble_avg.csv', index= False)"
   ]
  },
  {
   "cell_type": "code",
   "execution_count": null,
   "metadata": {},
   "outputs": [],
   "source": [
    "# weighted ensemble"
   ]
  },
  {
   "cell_type": "code",
   "execution_count": null,
   "metadata": {},
   "outputs": [],
   "source": [
    "sub_df = test[['key']].copy()"
   ]
  },
  {
   "cell_type": "code",
   "execution_count": null,
   "metadata": {},
   "outputs": [],
   "source": [
    "# adjust weights"
   ]
  },
  {
   "cell_type": "code",
   "execution_count": null,
   "metadata": {},
   "outputs": [],
   "source": [
    "sub_df['fare_amount']=0.83*df1['fare_amount']+0.1*df2['fare_amount']+0.035*df3['fare_amount']+0.035*df4['fare_amount']"
   ]
  },
  {
   "cell_type": "code",
   "execution_count": null,
   "metadata": {},
   "outputs": [],
   "source": [
    "sub_df[['key', 'fare_amount']].to_csv('ensemble_weighted.csv', index= False)"
   ]
  },
  {
   "cell_type": "code",
   "execution_count": null,
   "metadata": {},
   "outputs": [],
   "source": []
  }
 ],
 "metadata": {
  "kernelspec": {
   "display_name": "Python 2",
   "language": "python",
   "name": "python2"
  },
  "language_info": {
   "codemirror_mode": {
    "name": "ipython",
    "version": 2
   },
   "file_extension": ".py",
   "mimetype": "text/x-python",
   "name": "python",
   "nbconvert_exporter": "python",
   "pygments_lexer": "ipython2",
   "version": "2.7.15"
  }
 },
 "nbformat": 4,
 "nbformat_minor": 2
}
