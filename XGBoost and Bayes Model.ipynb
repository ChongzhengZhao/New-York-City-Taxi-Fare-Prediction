{
 "cells": [
  {
   "cell_type": "code",
   "execution_count": null,
   "metadata": {},
   "outputs": [],
   "source": [
    "# Author: Chongzheng Zhao\n",
    "# Kaggle Competition - New York City Taxi Fare Prediction\n",
    "# FINAL BEAT 1454 TEAMS!\n",
    "# We team NYCTAXI located at 30 out of 1484 teams, Top 2%!\n",
    "# Final Score 2.86770\n",
    "# Competition Official Website: https://www.kaggle.com/c/new-york-city-taxi-fare-prediction\n",
    "# To see the leaderboard(competition result): https://www.kaggle.com/c/new-york-city-taxi-fare-prediction/leaderboard\n",
    "# Welcome to my Github profile: https://github.com/ChongzhengZhao/\n",
    "# Welcome to my Kaggle Profile: https://www.kaggle.com/chongzhengzhao\n",
    "# Welcome to my Linkedin Profile: https://www.linkedin.com/in/chongzhengzhao/\n",
    "# Last updated: 30/11/2018"
   ]
  },
  {
   "cell_type": "code",
   "execution_count": 33,
   "metadata": {},
   "outputs": [],
   "source": [
    "import numpy as np\n",
    "import pandas as pd\n",
    "import gc\n",
    "import time\n",
    "from sklearn.model_selection import KFold, StratifiedKFold\n",
    "import matplotlib.pyplot as plt\n",
    "import seaborn as sns\n",
    "import warnings\n",
    "warnings.simplefilter(action='ignore', category=FutureWarning)\n",
    "import xgboost as xgb\n",
    "from sklearn import metrics\n",
    "from sklearn.metrics import mean_squared_error"
   ]
  },
  {
   "cell_type": "code",
   "execution_count": 34,
   "metadata": {},
   "outputs": [],
   "source": [
    "train=pd.read_csv('train_model.csv')"
   ]
  },
  {
   "cell_type": "code",
   "execution_count": 35,
   "metadata": {},
   "outputs": [],
   "source": [
    "train= train.sample(n=10000000)"
   ]
  },
  {
   "cell_type": "code",
   "execution_count": 36,
   "metadata": {},
   "outputs": [
    {
     "data": {
      "text/plain": [
       "(10000000, 24)"
      ]
     },
     "execution_count": 36,
     "metadata": {},
     "output_type": "execute_result"
    }
   ],
   "source": [
    "train.shape"
   ]
  },
  {
   "cell_type": "code",
   "execution_count": 37,
   "metadata": {
    "collapsed": true
   },
   "outputs": [],
   "source": [
    "test=pd.read_csv('test_model.csv')"
   ]
  },
  {
   "cell_type": "code",
   "execution_count": 38,
   "metadata": {
    "collapsed": true
   },
   "outputs": [],
   "source": [
    "feats = [f for f in train.columns if f not in ['key','pickup_datetime','fare_amount']]"
   ]
  },
  {
   "cell_type": "code",
   "execution_count": null,
   "metadata": {},
   "outputs": [
    {
     "name": "stdout",
     "output_type": "stream",
     "text": [
      "[0]\ttrain-rmse:14.1105\tvalid-rmse:14.1126\n",
      "Multiple eval metrics have been passed: 'valid-rmse' will be used for early stopping.\n",
      "\n",
      "Will train until valid-rmse hasn't improved in 500 rounds.\n",
      "[100]\ttrain-rmse:4.01269\tvalid-rmse:3.98765\n",
      "[200]\ttrain-rmse:3.80415\tvalid-rmse:3.78697\n",
      "[300]\ttrain-rmse:3.72848\tvalid-rmse:3.72576\n",
      "[400]\ttrain-rmse:3.67386\tvalid-rmse:3.68594\n",
      "[500]\ttrain-rmse:3.63393\tvalid-rmse:3.65911\n",
      "[600]\ttrain-rmse:3.60041\tvalid-rmse:3.63905\n",
      "[700]\ttrain-rmse:3.57438\tvalid-rmse:3.62524\n",
      "[800]\ttrain-rmse:3.55158\tvalid-rmse:3.61502\n",
      "[900]\ttrain-rmse:3.52806\tvalid-rmse:3.60459\n",
      "[1000]\ttrain-rmse:3.50815\tvalid-rmse:3.59692\n",
      "[1100]\ttrain-rmse:3.49031\tvalid-rmse:3.59111\n",
      "[1200]\ttrain-rmse:3.47451\tvalid-rmse:3.58602\n",
      "[1300]\ttrain-rmse:3.46049\tvalid-rmse:3.58195\n",
      "[1400]\ttrain-rmse:3.44719\tvalid-rmse:3.57837\n",
      "[1500]\ttrain-rmse:3.43444\tvalid-rmse:3.57483\n",
      "[1600]\ttrain-rmse:3.4219\tvalid-rmse:3.57212\n",
      "[1700]\ttrain-rmse:3.40989\tvalid-rmse:3.5699\n",
      "[1800]\ttrain-rmse:3.3992\tvalid-rmse:3.56827\n",
      "[1900]\ttrain-rmse:3.38821\tvalid-rmse:3.56623\n",
      "[2000]\ttrain-rmse:3.37869\tvalid-rmse:3.56463\n",
      "[2100]\ttrain-rmse:3.36866\tvalid-rmse:3.56216\n",
      "[2200]\ttrain-rmse:3.35968\tvalid-rmse:3.56071\n",
      "[2300]\ttrain-rmse:3.35061\tvalid-rmse:3.55886\n",
      "[2400]\ttrain-rmse:3.342\tvalid-rmse:3.55772\n",
      "[2500]\ttrain-rmse:3.33386\tvalid-rmse:3.55661\n",
      "[2600]\ttrain-rmse:3.32573\tvalid-rmse:3.55576\n",
      "[2700]\ttrain-rmse:3.31758\tvalid-rmse:3.55465\n",
      "[2800]\ttrain-rmse:3.30981\tvalid-rmse:3.55347\n",
      "[2900]\ttrain-rmse:3.30235\tvalid-rmse:3.55257\n",
      "[3000]\ttrain-rmse:3.29489\tvalid-rmse:3.55222\n",
      "[3100]\ttrain-rmse:3.28749\tvalid-rmse:3.55149\n",
      "[3200]\ttrain-rmse:3.28076\tvalid-rmse:3.55118\n",
      "[3300]\ttrain-rmse:3.27376\tvalid-rmse:3.55037\n",
      "[3400]\ttrain-rmse:3.26711\tvalid-rmse:3.54974\n",
      "[3500]\ttrain-rmse:3.26076\tvalid-rmse:3.54935\n",
      "[3600]\ttrain-rmse:3.25459\tvalid-rmse:3.54884\n",
      "[3700]\ttrain-rmse:3.24866\tvalid-rmse:3.54847\n",
      "[3800]\ttrain-rmse:3.24261\tvalid-rmse:3.54839\n",
      "[3900]\ttrain-rmse:3.23652\tvalid-rmse:3.5482\n",
      "[4000]\ttrain-rmse:3.23057\tvalid-rmse:3.54796\n",
      "[4100]\ttrain-rmse:3.22522\tvalid-rmse:3.54784\n",
      "[4200]\ttrain-rmse:3.21989\tvalid-rmse:3.54747\n",
      "[4300]\ttrain-rmse:3.21471\tvalid-rmse:3.54743\n",
      "[4400]\ttrain-rmse:3.20925\tvalid-rmse:3.54762\n",
      "[4500]\ttrain-rmse:3.20408\tvalid-rmse:3.54743\n",
      "[4600]\ttrain-rmse:3.199\tvalid-rmse:3.54703\n",
      "[4700]\ttrain-rmse:3.19394\tvalid-rmse:3.54672\n",
      "[4800]\ttrain-rmse:3.18874\tvalid-rmse:3.54661\n",
      "[4900]\ttrain-rmse:3.18376\tvalid-rmse:3.54629\n",
      "[5000]\ttrain-rmse:3.17897\tvalid-rmse:3.54626\n",
      "[5100]\ttrain-rmse:3.17417\tvalid-rmse:3.54606\n",
      "[5200]\ttrain-rmse:3.16957\tvalid-rmse:3.54589\n",
      "[5300]\ttrain-rmse:3.1651\tvalid-rmse:3.54599\n",
      "[5400]\ttrain-rmse:3.16055\tvalid-rmse:3.54584\n",
      "[5500]\ttrain-rmse:3.15604\tvalid-rmse:3.54589\n",
      "[5600]\ttrain-rmse:3.15186\tvalid-rmse:3.54597\n",
      "[5700]\ttrain-rmse:3.14771\tvalid-rmse:3.54602\n",
      "[5800]\ttrain-rmse:3.14362\tvalid-rmse:3.54626\n",
      "[5900]\ttrain-rmse:3.13948\tvalid-rmse:3.54642\n",
      "Stopping. Best iteration:\n",
      "[5412]\ttrain-rmse:3.16002\tvalid-rmse:3.54577\n",
      "\n",
      "Fold  1 rmse : 3.545773\n",
      "[0]\ttrain-rmse:14.1082\tvalid-rmse:14.1214\n",
      "Multiple eval metrics have been passed: 'valid-rmse' will be used for early stopping.\n",
      "\n",
      "Will train until valid-rmse hasn't improved in 500 rounds.\n",
      "[100]\ttrain-rmse:3.99177\tvalid-rmse:4.06495\n",
      "[200]\ttrain-rmse:3.78108\tvalid-rmse:3.87218\n",
      "[300]\ttrain-rmse:3.7058\tvalid-rmse:3.81406\n",
      "[400]\ttrain-rmse:3.6489\tvalid-rmse:3.77304\n",
      "[500]\ttrain-rmse:3.60972\tvalid-rmse:3.74776\n",
      "[600]\ttrain-rmse:3.57709\tvalid-rmse:3.72867\n",
      "[700]\ttrain-rmse:3.54959\tvalid-rmse:3.71401\n",
      "[800]\ttrain-rmse:3.52512\tvalid-rmse:3.70341\n",
      "[900]\ttrain-rmse:3.50444\tvalid-rmse:3.69388\n",
      "[1000]\ttrain-rmse:3.48589\tvalid-rmse:3.68762\n",
      "[1100]\ttrain-rmse:3.46875\tvalid-rmse:3.68128\n",
      "[1200]\ttrain-rmse:3.453\tvalid-rmse:3.67632\n",
      "[1300]\ttrain-rmse:3.43854\tvalid-rmse:3.67169\n",
      "[1400]\ttrain-rmse:3.425\tvalid-rmse:3.66822\n",
      "[1500]\ttrain-rmse:3.41194\tvalid-rmse:3.66494\n",
      "[1600]\ttrain-rmse:3.40001\tvalid-rmse:3.66235\n",
      "[1700]\ttrain-rmse:3.3884\tvalid-rmse:3.65962\n",
      "[1800]\ttrain-rmse:3.37718\tvalid-rmse:3.65769\n",
      "[1900]\ttrain-rmse:3.36673\tvalid-rmse:3.65611\n",
      "[2000]\ttrain-rmse:3.35643\tvalid-rmse:3.65419\n",
      "[2100]\ttrain-rmse:3.34703\tvalid-rmse:3.6523\n",
      "[2200]\ttrain-rmse:3.33788\tvalid-rmse:3.65066\n",
      "[2300]\ttrain-rmse:3.32895\tvalid-rmse:3.64914\n",
      "[2400]\ttrain-rmse:3.32025\tvalid-rmse:3.64752\n",
      "[2500]\ttrain-rmse:3.31201\tvalid-rmse:3.64587\n",
      "[2600]\ttrain-rmse:3.30367\tvalid-rmse:3.64463\n",
      "[2700]\ttrain-rmse:3.29579\tvalid-rmse:3.64344\n",
      "[2800]\ttrain-rmse:3.28783\tvalid-rmse:3.64248\n",
      "[2900]\ttrain-rmse:3.28026\tvalid-rmse:3.64178\n",
      "[3000]\ttrain-rmse:3.27328\tvalid-rmse:3.64068\n",
      "[3100]\ttrain-rmse:3.26644\tvalid-rmse:3.63967\n",
      "[3200]\ttrain-rmse:3.25935\tvalid-rmse:3.6395\n",
      "[3300]\ttrain-rmse:3.25281\tvalid-rmse:3.6384\n",
      "[3400]\ttrain-rmse:3.24631\tvalid-rmse:3.63766\n",
      "[3500]\ttrain-rmse:3.24037\tvalid-rmse:3.63694\n",
      "[3600]\ttrain-rmse:3.23404\tvalid-rmse:3.63619\n",
      "[3700]\ttrain-rmse:3.22795\tvalid-rmse:3.63566\n",
      "[3800]\ttrain-rmse:3.22207\tvalid-rmse:3.63516\n",
      "[3900]\ttrain-rmse:3.21625\tvalid-rmse:3.63448\n",
      "[4000]\ttrain-rmse:3.21077\tvalid-rmse:3.63406\n",
      "[4100]\ttrain-rmse:3.20539\tvalid-rmse:3.63357\n",
      "[4200]\ttrain-rmse:3.2\tvalid-rmse:3.63324\n",
      "[4300]\ttrain-rmse:3.19447\tvalid-rmse:3.6327\n",
      "[4400]\ttrain-rmse:3.1891\tvalid-rmse:3.63223\n",
      "[4500]\ttrain-rmse:3.18373\tvalid-rmse:3.63174\n",
      "[4600]\ttrain-rmse:3.17877\tvalid-rmse:3.63147\n",
      "[4700]\ttrain-rmse:3.17386\tvalid-rmse:3.63109\n",
      "[4800]\ttrain-rmse:3.16879\tvalid-rmse:3.63069\n",
      "[4900]\ttrain-rmse:3.16406\tvalid-rmse:3.63052\n",
      "[5000]\ttrain-rmse:3.15943\tvalid-rmse:3.63047\n",
      "[5100]\ttrain-rmse:3.15502\tvalid-rmse:3.63035\n",
      "[5200]\ttrain-rmse:3.1503\tvalid-rmse:3.63022\n",
      "[5300]\ttrain-rmse:3.14589\tvalid-rmse:3.6301\n",
      "[5400]\ttrain-rmse:3.14162\tvalid-rmse:3.62981\n",
      "[5500]\ttrain-rmse:3.13734\tvalid-rmse:3.62948\n",
      "[5600]\ttrain-rmse:3.13306\tvalid-rmse:3.62949\n",
      "[5700]\ttrain-rmse:3.12887\tvalid-rmse:3.62952\n",
      "[5800]\ttrain-rmse:3.12467\tvalid-rmse:3.62962\n",
      "[5900]\ttrain-rmse:3.1206\tvalid-rmse:3.62923\n",
      "[6000]\ttrain-rmse:3.11645\tvalid-rmse:3.62938\n",
      "[6100]\ttrain-rmse:3.11225\tvalid-rmse:3.62975\n",
      "[6200]\ttrain-rmse:3.10843\tvalid-rmse:3.62959\n",
      "[6300]\ttrain-rmse:3.10463\tvalid-rmse:3.62937\n",
      "Stopping. Best iteration:\n",
      "[5899]\ttrain-rmse:3.12065\tvalid-rmse:3.62922\n",
      "\n",
      "Fold  2 rmse : 3.629225\n",
      "[0]\ttrain-rmse:14.1193\tvalid-rmse:14.0777\n",
      "Multiple eval metrics have been passed: 'valid-rmse' will be used for early stopping.\n",
      "\n",
      "Will train until valid-rmse hasn't improved in 500 rounds.\n",
      "[100]\ttrain-rmse:4.01867\tvalid-rmse:3.96702\n",
      "[200]\ttrain-rmse:3.80944\tvalid-rmse:3.77118\n",
      "[300]\ttrain-rmse:3.73269\tvalid-rmse:3.70912\n",
      "[400]\ttrain-rmse:3.67961\tvalid-rmse:3.6709\n",
      "[500]\ttrain-rmse:3.63831\tvalid-rmse:3.64153\n"
     ]
    }
   ],
   "source": [
    "folds = KFold(n_splits= 5, shuffle=True, random_state=1001)\n",
    "    # Create arrays and dataframes to store results\n",
    "oof_preds = np.zeros(train.shape[0])\n",
    "sub_preds = np.zeros(test.shape[0])\n",
    "feature_importance_df = pd.DataFrame()\n",
    "dtest=xgb.DMatrix(test[feats])\n",
    "    \n",
    "for n_fold, (train_idx, valid_idx) in enumerate(folds.split(train[feats], train['fare_amount'])):\n",
    "    dtrain = xgb.DMatrix(train[feats].iloc[train_idx],train['fare_amount'].iloc[train_idx])\n",
    "    dvalid = xgb.DMatrix(train[feats].iloc[valid_idx], train['fare_amount'].iloc[valid_idx])\n",
    "    valid_y=train['fare_amount'].iloc[valid_idx]\n",
    "\n",
    "       # xgb\n",
    "    params = {'eval_metric': 'rmse',\n",
    "              'objective': 'reg:linear',\n",
    "              'booster':'gbtree',\n",
    "              #'tree_method': 'auto',\n",
    "              'nthread' : 4,\n",
    "              'eta' : 0.03,\n",
    "              'max_leaves': 40,\n",
    "              'max_depth' : 7,\n",
    "              'max_bin': 300,\n",
    "              'min_child_weight' : 4,\n",
    "              'subsample' : 0.8,\n",
    "              'colsample_bytree' : 0.9,\n",
    "              'colsample_bylevel' : 0.9,\n",
    "              'reg_alpha' : 0.1,\n",
    "              'reg_lambda' : 0.1,\n",
    "              'gamma':0}\n",
    "    watchlist = [(dtrain, 'train'), (dvalid, 'valid')]\n",
    "        \n",
    "    model=xgb.train(params, dtrain, 20000, watchlist, maximize=False, early_stopping_rounds = 500, verbose_eval=100)\n",
    "    oof_preds[valid_idx] = model.predict(dvalid, ntree_limit=model.best_ntree_limit)\n",
    "    sub_preds += model.predict(dtest,ntree_limit=model.best_ntree_limit) / folds.n_splits\n",
    "\n",
    "    fold_importance_df = pd.DataFrame()\n",
    "    fold_importance_df = pd.DataFrame(model.get_fscore().items(), columns=['feature','importance']).sort_values('importance', ascending=False)\n",
    "    fold_importance_df[\"fold\"] = n_fold + 1\n",
    "    feature_importance_df = pd.concat([feature_importance_df, fold_importance_df], axis=0)\n",
    "    print('Fold %2d rmse : %.6f' % (n_fold + 1,mean_squared_error(valid_y, oof_preds[valid_idx]) ** .5)) \n",
    "    del model, dtrain, dvalid\n",
    "    gc.collect()\n",
    "\n",
    "print('Full rmse %.6f' % mean_squared_error(train['fare_amount'], oof_preds)**.5)\n",
    "# Write submission file and plot feature importance\n",
    "sub_df = test[['key']].copy()\n",
    "sub_df['fare_amount'] = sub_preds\n",
    "sub_df[['key', 'fare_amount']].to_csv('submission_xgb.csv', index= False)"
   ]
  },
  {
   "cell_type": "code",
   "execution_count": null,
   "metadata": {
    "collapsed": true
   },
   "outputs": [],
   "source": [
    "cols = feature_importance_df[[\"feature\", \"importance\"]].groupby(\"feature\").mean().sort_values(by=\"importance\", ascending=False).index\n",
    "best_features = feature_importance_df.loc[feature_importance_df.feature.isin(cols)]\n",
    "plt.figure(figsize=(8, 10))\n",
    "sns.barplot(x=\"importance\", y=\"feature\", data=best_features.sort_values(by=\"importance\", ascending=False))\n",
    "plt.title('LightGBM Features (avg over folds)')\n",
    "plt.tight_layout\n",
    "plt.show()"
   ]
  },
  {
   "cell_type": "code",
   "execution_count": 28,
   "metadata": {
    "collapsed": true
   },
   "outputs": [],
   "source": [
    "from bayes_opt import BayesianOptimization"
   ]
  },
  {
   "cell_type": "code",
   "execution_count": 29,
   "metadata": {
    "collapsed": true
   },
   "outputs": [],
   "source": [
    "feats = [f for f in train.columns if f not in ['key','pickup_datetime','fare_amount']]\n",
    "X_train=train[feats]\n",
    "y_train=train['fare_amount']\n",
    "X_test=test[feats]\n",
    "dtrain = xgb.DMatrix(X_train, label=y_train)\n",
    "dtest = xgb.DMatrix(X_test)"
   ]
  },
  {
   "cell_type": "code",
   "execution_count": 30,
   "metadata": {
    "collapsed": true
   },
   "outputs": [],
   "source": [
    "def xgb_evaluate(max_depth, subsample,gamma, colsample_bytree, max_leaves,max_bin, min_child_weight,colsample_bylevel,\\\n",
    "                reg_alpha,reg_lambda):\n",
    "    params = {'eval_metric': 'rmse',\\\n",
    "              'objective': 'reg:linear',\\\n",
    "              'booster':'gbtree',\\\n",
    "              'max_depth': int(max_depth),\\\n",
    "              'subsample': subsample,\\\n",
    "              'eta': 0.03,\\\n",
    "              'gamma': gamma,\\\n",
    "              'colsample_bytree': colsample_bytree,\\\n",
    "             'max_leaves': int(max_leaves),\\\n",
    "              'max_bin':int(max_bin),\\\n",
    "              'min_child_weight':min_child_weight,\\\n",
    "              'colsample_bylevel':colsample_bylevel,\\\n",
    "              'reg_alpha':reg_alpha,\\\n",
    "              'reg_lambda':reg_lambda}\n",
    "    cv_result = xgb.cv(params, dtrain, num_boost_round=200000, nfold=5)    \n",
    "    # Bayesian optimization only knows how to maximize, not minimize, so return the negative RMSE\n",
    "    return -1.0 * cv_result['test-rmse-mean'].iloc[-1]"
   ]
  },
  {
   "cell_type": "code",
   "execution_count": 32,
   "metadata": {},
   "outputs": [
    {
     "name": "stderr",
     "output_type": "stream",
     "text": [
      "/Users/shuozhang/anaconda/lib/python2.7/site-packages/sklearn/utils/deprecation.py:52: DeprecationWarning: Class GaussianProcess is deprecated; GaussianProcess was deprecated in version 0.18 and will be removed in 0.20. Use the GaussianProcessRegressor instead.\n",
      "  warnings.warn(msg, category=DeprecationWarning)\n"
     ]
    },
    {
     "name": "stdout",
     "output_type": "stream",
     "text": [
      "\u001b[31mInitialization\u001b[0m\n",
      "\u001b[94m---------------------------------------------------------------------------------------------------------------------------------------------------------------------------------------------\u001b[0m\n",
      " Step |   Time |      Value |   colsample_bylevel |   colsample_bytree |     gamma |   max_bin |   max_depth |   max_leaves |   min_child_weight |   reg_alpha |   reg_lambda |   subsample | \n",
      "    1 | 00m03s | \u001b[35m  -4.65932\u001b[0m | \u001b[32m             0.8530\u001b[0m | \u001b[32m            0.9978\u001b[0m | \u001b[32m   0.7577\u001b[0m | \u001b[32m 436.9648\u001b[0m | \u001b[32m     6.0524\u001b[0m | \u001b[32m     92.2609\u001b[0m | \u001b[32m            5.4707\u001b[0m | \u001b[32m     0.3350\u001b[0m | \u001b[32m      0.2484\u001b[0m | \u001b[32m     0.8506\u001b[0m | \n",
      "    2 | 00m02s |   -4.68456 |              0.8690 |             0.7498 |    0.3695 |  364.7349 |      5.8246 |      57.6579 |            15.0731 |      0.8086 |       0.0897 |      0.9718 | \n",
      "    3 | 00m02s |   -4.69847 |              0.8420 |             0.7843 |    0.4752 |  193.6908 |      4.8677 |      77.9400 |            10.1712 |      0.6881 |       0.9502 |      0.9296 | \n"
     ]
    },
    {
     "name": "stderr",
     "output_type": "stream",
     "text": [
      "/Users/shuozhang/anaconda/lib/python2.7/site-packages/sklearn/utils/deprecation.py:70: DeprecationWarning: Function l1_cross_distances is deprecated; l1_cross_distances was deprecated in version 0.18 and will be removed in 0.20.\n",
      "  warnings.warn(msg, category=DeprecationWarning)\n"
     ]
    },
    {
     "name": "stdout",
     "output_type": "stream",
     "text": [
      "\u001b[31mBayesian Optimization\u001b[0m\n",
      "\u001b[94m---------------------------------------------------------------------------------------------------------------------------------------------------------------------------------------------\u001b[0m\n",
      " Step |   Time |      Value |   colsample_bylevel |   colsample_bytree |     gamma |   max_bin |   max_depth |   max_leaves |   min_child_weight |   reg_alpha |   reg_lambda |   subsample | \n"
     ]
    },
    {
     "name": "stderr",
     "output_type": "stream",
     "text": [
      "/Users/shuozhang/anaconda/lib/python2.7/site-packages/sklearn/utils/deprecation.py:70: DeprecationWarning: Function l1_cross_distances is deprecated; l1_cross_distances was deprecated in version 0.18 and will be removed in 0.20.\n",
      "  warnings.warn(msg, category=DeprecationWarning)\n"
     ]
    },
    {
     "name": "stdout",
     "output_type": "stream",
     "text": [
      "    4 | 00m06s |   -9.74844 |              0.9536 |             0.8915 |    0.0296 |  277.9087 |      0.3343 |      58.8304 |            11.2454 |      0.3916 |       0.7779 |      0.6061 | \n"
     ]
    },
    {
     "name": "stderr",
     "output_type": "stream",
     "text": [
      "/Users/shuozhang/anaconda/lib/python2.7/site-packages/sklearn/utils/deprecation.py:70: DeprecationWarning: Function l1_cross_distances is deprecated; l1_cross_distances was deprecated in version 0.18 and will be removed in 0.20.\n",
      "  warnings.warn(msg, category=DeprecationWarning)\n"
     ]
    },
    {
     "name": "stdout",
     "output_type": "stream",
     "text": [
      "    5 | 00m04s |   -4.86705 |              0.8981 |             0.8628 |    0.1689 |  350.5171 |      2.8242 |      49.2359 |             7.2682 |      0.0952 |       0.9924 |      0.7445 | \n"
     ]
    },
    {
     "name": "stderr",
     "output_type": "stream",
     "text": [
      "/Users/shuozhang/anaconda/lib/python2.7/site-packages/sklearn/utils/deprecation.py:70: DeprecationWarning: Function l1_cross_distances is deprecated; l1_cross_distances was deprecated in version 0.18 and will be removed in 0.20.\n",
      "  warnings.warn(msg, category=DeprecationWarning)\n"
     ]
    },
    {
     "name": "stdout",
     "output_type": "stream",
     "text": [
      "    6 | 00m04s |   -9.74865 |              0.8979 |             0.7157 |    0.5696 |  378.7936 |     -0.7659 |      98.9150 |            15.5226 |      0.8186 |       0.0473 |      0.7983 | \n"
     ]
    },
    {
     "name": "stderr",
     "output_type": "stream",
     "text": [
      "/Users/shuozhang/anaconda/lib/python2.7/site-packages/sklearn/utils/deprecation.py:70: DeprecationWarning: Function l1_cross_distances is deprecated; l1_cross_distances was deprecated in version 0.18 and will be removed in 0.20.\n",
      "  warnings.warn(msg, category=DeprecationWarning)\n"
     ]
    },
    {
     "name": "stdout",
     "output_type": "stream",
     "text": [
      "    7 | 00m04s |   -5.29935 |              0.8385 |             0.8096 |    0.2500 |  231.9922 |      1.4518 |      59.6688 |             9.5293 |      0.7211 |       0.9625 |      0.7660 | \n"
     ]
    },
    {
     "name": "stderr",
     "output_type": "stream",
     "text": [
      "/Users/shuozhang/anaconda/lib/python2.7/site-packages/sklearn/utils/deprecation.py:70: DeprecationWarning: Function l1_cross_distances is deprecated; l1_cross_distances was deprecated in version 0.18 and will be removed in 0.20.\n",
      "  warnings.warn(msg, category=DeprecationWarning)\n"
     ]
    },
    {
     "name": "stdout",
     "output_type": "stream",
     "text": [
      "    8 | 00m04s |   -9.74857 |              0.8946 |             0.8119 |    0.9381 |  457.8497 |      0.8163 |     139.3985 |             6.4370 |      0.1945 |       0.0880 |      0.9847 | \n"
     ]
    }
   ],
   "source": [
    "xgb_bo = BayesianOptimization(xgb_evaluate, {'max_depth': (-1, 10), \\\n",
    "                                             'gamma': (0, 1),\\\n",
    "                                             'subsample': (0.6, 1.0),\\\n",
    "                                            'max_leaves': (20, 200),\\\n",
    "                                            'colsample_bytree': (0.6, 1.0),\\\n",
    "                                            'reg_lambda': (0, 1),\\\n",
    "                                            'reg_alpha': (0, 1),\\\n",
    "                                            'max_bin':(180,500),\\\n",
    "                                            'colsample_bylevel':(0.6,1.0),\\\n",
    "                                            'min_child_weight': (3, 20)})\n",
    "# Use the expected improvement acquisition function to handle negative numbers\n",
    "xgb_bo.maximize(init_points=3, n_iter=5, acq='ei')"
   ]
  },
  {
   "cell_type": "code",
   "execution_count": null,
   "metadata": {
    "collapsed": true
   },
   "outputs": [],
   "source": []
  }
 ],
 "metadata": {
  "kernelspec": {
   "display_name": "Python 2",
   "language": "python",
   "name": "python2"
  },
  "language_info": {
   "codemirror_mode": {
    "name": "ipython",
    "version": 2
   },
   "file_extension": ".py",
   "mimetype": "text/x-python",
   "name": "python",
   "nbconvert_exporter": "python",
   "pygments_lexer": "ipython2",
   "version": "2.7.15"
  }
 },
 "nbformat": 4,
 "nbformat_minor": 2
}
